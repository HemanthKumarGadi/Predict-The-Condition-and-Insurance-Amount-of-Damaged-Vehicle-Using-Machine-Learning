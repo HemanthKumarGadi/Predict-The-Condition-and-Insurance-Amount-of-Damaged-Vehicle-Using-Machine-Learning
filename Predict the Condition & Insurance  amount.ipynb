{
 "cells": [
  {
   "cell_type": "code",
   "execution_count": null,
   "metadata": {
    "id": "CUZe4H5ak08i"
   },
   "outputs": [],
   "source": [
    "\n",
    "import numpy as np # linear algebra\n",
    "import pandas as pd # data processing, CSV file I/O (e.g. pd.read_csv)\n",
    "import os\n"
   ]
  },
  {
   "cell_type": "code",
   "execution_count": null,
   "metadata": {
    "colab": {
     "base_uri": "https://localhost:8080/"
    },
    "id": "y1ORcBzxmHj7",
    "outputId": "3f556757-e9a3-4d26-c435-6b92519da59c"
   },
   "outputs": [
    {
     "name": "stdout",
     "output_type": "stream",
     "text": [
      "Collecting pretrainedmodels\n",
      "\u001b[?25l  Downloading https://files.pythonhosted.org/packages/84/0e/be6a0e58447ac16c938799d49bfb5fb7a80ac35e137547fc6cee2c08c4cf/pretrainedmodels-0.7.4.tar.gz (58kB)\n",
      "\u001b[K     |████████████████████████████████| 61kB 5.1MB/s \n",
      "\u001b[?25hRequirement already satisfied: torch in /usr/local/lib/python3.7/dist-packages (from pretrainedmodels) (1.8.1+cu101)\n",
      "Requirement already satisfied: torchvision in /usr/local/lib/python3.7/dist-packages (from pretrainedmodels) (0.9.1+cu101)\n",
      "Collecting munch\n",
      "  Downloading https://files.pythonhosted.org/packages/cc/ab/85d8da5c9a45e072301beb37ad7f833cd344e04c817d97e0cc75681d248f/munch-2.5.0-py2.py3-none-any.whl\n",
      "Requirement already satisfied: tqdm in /usr/local/lib/python3.7/dist-packages (from pretrainedmodels) (4.41.1)\n",
      "Requirement already satisfied: numpy in /usr/local/lib/python3.7/dist-packages (from torch->pretrainedmodels) (1.19.5)\n",
      "Requirement already satisfied: typing-extensions in /usr/local/lib/python3.7/dist-packages (from torch->pretrainedmodels) (3.7.4.3)\n",
      "Requirement already satisfied: pillow>=4.1.1 in /usr/local/lib/python3.7/dist-packages (from torchvision->pretrainedmodels) (7.1.2)\n",
      "Requirement already satisfied: six in /usr/local/lib/python3.7/dist-packages (from munch->pretrainedmodels) (1.15.0)\n",
      "Building wheels for collected packages: pretrainedmodels\n",
      "  Building wheel for pretrainedmodels (setup.py) ... \u001b[?25l\u001b[?25hdone\n",
      "  Created wheel for pretrainedmodels: filename=pretrainedmodels-0.7.4-cp37-none-any.whl size=60966 sha256=6ff65a885d3da3adfdf990a97f6477d34bd241c0eeaf137f8c78727a60fc858f\n",
      "  Stored in directory: /root/.cache/pip/wheels/69/df/63/62583c096289713f22db605aa2334de5b591d59861a02c2ecd\n",
      "Successfully built pretrainedmodels\n",
      "Installing collected packages: munch, pretrainedmodels\n",
      "Successfully installed munch-2.5.0 pretrainedmodels-0.7.4\n"
     ]
    }
   ],
   "source": [
    "pip install pretrainedmodels"
   ]
  },
  {
   "cell_type": "code",
   "execution_count": null,
   "metadata": {
    "colab": {
     "base_uri": "https://localhost:8080/",
     "height": 35
    },
    "id": "dPvD_mA5mjed",
    "outputId": "3722983b-9499-43c7-93cd-62ace86c1f68"
   },
   "outputs": [
    {
     "data": {
      "application/vnd.google.colaboratory.intrinsic+json": {
       "type": "string"
      },
      "text/plain": [
       "'1.0.61'"
      ]
     },
     "execution_count": 8,
     "metadata": {
      "tags": []
     },
     "output_type": "execute_result"
    }
   ],
   "source": [
    "from torchvision.models import *\n",
    "from fastai import *\n",
    "from fastai.vision import *\n",
    "from fastai.vision.models import *\n",
    "from fastai.vision.learner import model_meta\n",
    "import fastai\n",
    "import sys\n",
    "import torch\n",
    "fastai.__version__"
   ]
  },
  {
   "cell_type": "code",
   "execution_count": null,
   "metadata": {
    "colab": {
     "base_uri": "https://localhost:8080/",
     "height": 73,
     "resources": {
      "http://localhost:8080/nbextensions/google.colab/files.js": {
       "data": "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",
       "headers": [
        [
         "content-type",
         "application/javascript"
        ]
       ],
       "ok": true,
       "status": 200,
       "status_text": ""
      }
     }
    },
    "id": "-8vsmm2hmrWS",
    "outputId": "5a3852d2-a74e-4de9-b2b7-620742febf5b"
   },
   "outputs": [
    {
     "data": {
      "text/html": [
       "\n",
       "     <input type=\"file\" id=\"files-180a6e07-378e-435e-9cce-e9894dcb2886\" name=\"files[]\" multiple disabled\n",
       "        style=\"border:none\" />\n",
       "     <output id=\"result-180a6e07-378e-435e-9cce-e9894dcb2886\">\n",
       "      Upload widget is only available when the cell has been executed in the\n",
       "      current browser session. Please rerun this cell to enable.\n",
       "      </output>\n",
       "      <script src=\"/nbextensions/google.colab/files.js\"></script> "
      ],
      "text/plain": [
       "<IPython.core.display.HTML object>"
      ]
     },
     "metadata": {
      "tags": []
     },
     "output_type": "display_data"
    },
    {
     "name": "stdout",
     "output_type": "stream",
     "text": [
      "Saving a8725fd0b96811eb.zip to a8725fd0b96811eb.zip\n"
     ]
    }
   ],
   "source": [
    "from google.colab import files\n",
    "uploaded = files.upload()\n"
   ]
  },
  {
   "cell_type": "code",
   "execution_count": null,
   "metadata": {
    "id": "OFF2JneHm4PA"
   },
   "outputs": [],
   "source": [
    "import zipfile\n",
    "import io\n",
    "data = zipfile.ZipFile(io.BytesIO(uploaded['a8725fd0b96811eb.zip']), 'r')\n",
    "data.extractall()"
   ]
  },
  {
   "cell_type": "code",
   "execution_count": null,
   "metadata": {
    "id": "SImHwno_1z8H"
   },
   "outputs": [],
   "source": [
    "path = 'dataset'\n",
    "train_data_dir = 'dataset/trainImages'\n",
    "test_data_dir = 'dataset/testImages'"
   ]
  },
  {
   "cell_type": "code",
   "execution_count": null,
   "metadata": {
    "id": "tSmWooORFUe7"
   },
   "outputs": [],
   "source": [
    "import pandas as pd"
   ]
  },
  {
   "cell_type": "code",
   "execution_count": null,
   "metadata": {
    "id": "Q55oMqexFYn2"
   },
   "outputs": [],
   "source": [
    "df = pd.read_csv(r'/content/dataset/train.csv')"
   ]
  },
  {
   "cell_type": "code",
   "execution_count": null,
   "metadata": {
    "colab": {
     "base_uri": "https://localhost:8080/",
     "height": 203
    },
    "id": "H3ewgMV8Fcq4",
    "outputId": "4dc35048-1ee9-4255-d41e-8b5fb2309922"
   },
   "outputs": [
    {
     "data": {
      "text/html": [
       "<div>\n",
       "<style scoped>\n",
       "    .dataframe tbody tr th:only-of-type {\n",
       "        vertical-align: middle;\n",
       "    }\n",
       "\n",
       "    .dataframe tbody tr th {\n",
       "        vertical-align: top;\n",
       "    }\n",
       "\n",
       "    .dataframe thead th {\n",
       "        text-align: right;\n",
       "    }\n",
       "</style>\n",
       "<table border=\"1\" class=\"dataframe\">\n",
       "  <thead>\n",
       "    <tr style=\"text-align: right;\">\n",
       "      <th></th>\n",
       "      <th>Image_path</th>\n",
       "      <th>Insurance_company</th>\n",
       "      <th>Cost_of_vehicle</th>\n",
       "      <th>Min_coverage</th>\n",
       "      <th>Expiry_date</th>\n",
       "      <th>Max_coverage</th>\n",
       "      <th>Condition</th>\n",
       "      <th>Amount</th>\n",
       "    </tr>\n",
       "  </thead>\n",
       "  <tbody>\n",
       "    <tr>\n",
       "      <th>0</th>\n",
       "      <td>img_4513976.jpg</td>\n",
       "      <td>BQ</td>\n",
       "      <td>41500.0</td>\n",
       "      <td>1037.5</td>\n",
       "      <td>2026-12-03</td>\n",
       "      <td>36142.68</td>\n",
       "      <td>0</td>\n",
       "      <td>0.0</td>\n",
       "    </tr>\n",
       "    <tr>\n",
       "      <th>1</th>\n",
       "      <td>img_7764995.jpg</td>\n",
       "      <td>BQ</td>\n",
       "      <td>50700.0</td>\n",
       "      <td>1267.5</td>\n",
       "      <td>2025-07-10</td>\n",
       "      <td>12753.00</td>\n",
       "      <td>1</td>\n",
       "      <td>6194.0</td>\n",
       "    </tr>\n",
       "    <tr>\n",
       "      <th>2</th>\n",
       "      <td>img_451308.jpg</td>\n",
       "      <td>A</td>\n",
       "      <td>49500.0</td>\n",
       "      <td>1237.5</td>\n",
       "      <td>2022-08-11</td>\n",
       "      <td>43102.68</td>\n",
       "      <td>0</td>\n",
       "      <td>0.0</td>\n",
       "    </tr>\n",
       "    <tr>\n",
       "      <th>3</th>\n",
       "      <td>img_7768372.jpg</td>\n",
       "      <td>A</td>\n",
       "      <td>33500.0</td>\n",
       "      <td>837.5</td>\n",
       "      <td>2022-08-02</td>\n",
       "      <td>8453.00</td>\n",
       "      <td>1</td>\n",
       "      <td>7699.0</td>\n",
       "    </tr>\n",
       "    <tr>\n",
       "      <th>4</th>\n",
       "      <td>img_7765274.jpg</td>\n",
       "      <td>AC</td>\n",
       "      <td>27600.0</td>\n",
       "      <td>690.0</td>\n",
       "      <td>2026-05-01</td>\n",
       "      <td>6978.00</td>\n",
       "      <td>1</td>\n",
       "      <td>8849.0</td>\n",
       "    </tr>\n",
       "  </tbody>\n",
       "</table>\n",
       "</div>"
      ],
      "text/plain": [
       "        Image_path Insurance_company  ...  Condition  Amount\n",
       "0  img_4513976.jpg                BQ  ...          0     0.0\n",
       "1  img_7764995.jpg                BQ  ...          1  6194.0\n",
       "2   img_451308.jpg                 A  ...          0     0.0\n",
       "3  img_7768372.jpg                 A  ...          1  7699.0\n",
       "4  img_7765274.jpg                AC  ...          1  8849.0\n",
       "\n",
       "[5 rows x 8 columns]"
      ]
     },
     "execution_count": 16,
     "metadata": {
      "tags": []
     },
     "output_type": "execute_result"
    }
   ],
   "source": [
    "df.head()"
   ]
  },
  {
   "cell_type": "code",
   "execution_count": null,
   "metadata": {
    "id": "eRDng2k7Fd1y"
   },
   "outputs": [],
   "source": [
    "df2 =df[['Image_path','Condition']]\n"
   ]
  },
  {
   "cell_type": "code",
   "execution_count": null,
   "metadata": {
    "colab": {
     "base_uri": "https://localhost:8080/",
     "height": 203
    },
    "id": "GkyDV9fhFmmf",
    "outputId": "31a26294-f809-413d-a3bf-307c4dfde593"
   },
   "outputs": [
    {
     "data": {
      "text/html": [
       "<div>\n",
       "<style scoped>\n",
       "    .dataframe tbody tr th:only-of-type {\n",
       "        vertical-align: middle;\n",
       "    }\n",
       "\n",
       "    .dataframe tbody tr th {\n",
       "        vertical-align: top;\n",
       "    }\n",
       "\n",
       "    .dataframe thead th {\n",
       "        text-align: right;\n",
       "    }\n",
       "</style>\n",
       "<table border=\"1\" class=\"dataframe\">\n",
       "  <thead>\n",
       "    <tr style=\"text-align: right;\">\n",
       "      <th></th>\n",
       "      <th>Image_path</th>\n",
       "      <th>Condition</th>\n",
       "    </tr>\n",
       "  </thead>\n",
       "  <tbody>\n",
       "    <tr>\n",
       "      <th>0</th>\n",
       "      <td>img_4513976.jpg</td>\n",
       "      <td>0</td>\n",
       "    </tr>\n",
       "    <tr>\n",
       "      <th>1</th>\n",
       "      <td>img_7764995.jpg</td>\n",
       "      <td>1</td>\n",
       "    </tr>\n",
       "    <tr>\n",
       "      <th>2</th>\n",
       "      <td>img_451308.jpg</td>\n",
       "      <td>0</td>\n",
       "    </tr>\n",
       "    <tr>\n",
       "      <th>3</th>\n",
       "      <td>img_7768372.jpg</td>\n",
       "      <td>1</td>\n",
       "    </tr>\n",
       "    <tr>\n",
       "      <th>4</th>\n",
       "      <td>img_7765274.jpg</td>\n",
       "      <td>1</td>\n",
       "    </tr>\n",
       "  </tbody>\n",
       "</table>\n",
       "</div>"
      ],
      "text/plain": [
       "        Image_path  Condition\n",
       "0  img_4513976.jpg          0\n",
       "1  img_7764995.jpg          1\n",
       "2   img_451308.jpg          0\n",
       "3  img_7768372.jpg          1\n",
       "4  img_7765274.jpg          1"
      ]
     },
     "execution_count": 18,
     "metadata": {
      "tags": []
     },
     "output_type": "execute_result"
    }
   ],
   "source": [
    "df2.head()"
   ]
  },
  {
   "cell_type": "code",
   "execution_count": null,
   "metadata": {
    "id": "21_gPppaFn3Y"
   },
   "outputs": [],
   "source": [
    "test2 =  pd.read_csv(r'/content/dataset/test.csv')"
   ]
  },
  {
   "cell_type": "code",
   "execution_count": null,
   "metadata": {
    "id": "rA2t97D6Fxon"
   },
   "outputs": [],
   "source": [
    "test = pd.DataFrame()\n"
   ]
  },
  {
   "cell_type": "code",
   "execution_count": null,
   "metadata": {
    "id": "nK5RnjDOFzS6"
   },
   "outputs": [],
   "source": [
    "test = test2[['Image_path']]\n"
   ]
  },
  {
   "cell_type": "code",
   "execution_count": null,
   "metadata": {
    "colab": {
     "base_uri": "https://localhost:8080/"
    },
    "id": "lybiTnV-F93g",
    "outputId": "49c1481a-70c9-4746-eb5d-efc3a93e951b"
   },
   "outputs": [
    {
     "name": "stderr",
     "output_type": "stream",
     "text": [
      "/usr/local/lib/python3.7/dist-packages/ipykernel_launcher.py:1: SettingWithCopyWarning: \n",
      "A value is trying to be set on a copy of a slice from a DataFrame.\n",
      "Try using .loc[row_indexer,col_indexer] = value instead\n",
      "\n",
      "See the caveats in the documentation: https://pandas.pydata.org/pandas-docs/stable/user_guide/indexing.html#returning-a-view-versus-a-copy\n",
      "  \"\"\"Entry point for launching an IPython kernel.\n"
     ]
    }
   ],
   "source": [
    "test[\"Condition\"] = \"\""
   ]
  },
  {
   "cell_type": "code",
   "execution_count": null,
   "metadata": {
    "colab": {
     "base_uri": "https://localhost:8080/",
     "height": 203
    },
    "id": "kqO5SKNZGLc4",
    "outputId": "1912dce6-5825-4236-f230-2a032df9afd7"
   },
   "outputs": [
    {
     "data": {
      "text/html": [
       "<div>\n",
       "<style scoped>\n",
       "    .dataframe tbody tr th:only-of-type {\n",
       "        vertical-align: middle;\n",
       "    }\n",
       "\n",
       "    .dataframe tbody tr th {\n",
       "        vertical-align: top;\n",
       "    }\n",
       "\n",
       "    .dataframe thead th {\n",
       "        text-align: right;\n",
       "    }\n",
       "</style>\n",
       "<table border=\"1\" class=\"dataframe\">\n",
       "  <thead>\n",
       "    <tr style=\"text-align: right;\">\n",
       "      <th></th>\n",
       "      <th>Image_path</th>\n",
       "      <th>Condition</th>\n",
       "    </tr>\n",
       "  </thead>\n",
       "  <tbody>\n",
       "    <tr>\n",
       "      <th>0</th>\n",
       "      <td>img_4538519.jpg</td>\n",
       "      <td></td>\n",
       "    </tr>\n",
       "    <tr>\n",
       "      <th>1</th>\n",
       "      <td>img_7766002.jpg</td>\n",
       "      <td></td>\n",
       "    </tr>\n",
       "    <tr>\n",
       "      <th>2</th>\n",
       "      <td>img_4637390.jpg</td>\n",
       "      <td></td>\n",
       "    </tr>\n",
       "    <tr>\n",
       "      <th>3</th>\n",
       "      <td>img_4516108.jpg</td>\n",
       "      <td></td>\n",
       "    </tr>\n",
       "    <tr>\n",
       "      <th>4</th>\n",
       "      <td>img_4517008.jpg</td>\n",
       "      <td></td>\n",
       "    </tr>\n",
       "  </tbody>\n",
       "</table>\n",
       "</div>"
      ],
      "text/plain": [
       "        Image_path Condition\n",
       "0  img_4538519.jpg          \n",
       "1  img_7766002.jpg          \n",
       "2  img_4637390.jpg          \n",
       "3  img_4516108.jpg          \n",
       "4  img_4517008.jpg          "
      ]
     },
     "execution_count": 43,
     "metadata": {
      "tags": []
     },
     "output_type": "execute_result"
    }
   ],
   "source": [
    "test.head()"
   ]
  },
  {
   "cell_type": "code",
   "execution_count": null,
   "metadata": {
    "id": "KzrC9Ak0G2Cu"
   },
   "outputs": [],
   "source": [
    "from PIL import Image"
   ]
  },
  {
   "cell_type": "code",
   "execution_count": null,
   "metadata": {
    "id": "qjG6Ls1IG7M1"
   },
   "outputs": [],
   "source": [
    "\n",
    "train_data_dir ='dataset/trainImages/'"
   ]
  },
  {
   "cell_type": "code",
   "execution_count": null,
   "metadata": {
    "id": "CuM2cEErG_co"
   },
   "outputs": [],
   "source": [
    "\n",
    "train_images=np.array(df2.iloc[:,0])\n",
    "imagearr=[]\n",
    "for i in train_images:\n",
    "    img=Image.open(train_data_dir+i).convert('L')\n",
    "    # L mode image, that means it is a single chaTableau for Data Visualization, Keras,nnel image - normally interpreted as greyscale. \n",
    "    img=img.resize((150,150),Image.ANTIALIAS)\n",
    "    #PIL.Image.ANTIALIAS (a high-quality downsampling filter)\n",
    "    imagearr.append(np.array(img))"
   ]
  },
  {
   "cell_type": "code",
   "execution_count": null,
   "metadata": {
    "colab": {
     "base_uri": "https://localhost:8080/",
     "height": 302
    },
    "id": "XslkXeJdHJXL",
    "outputId": "c104b5d2-ef4a-4478-b250-e0f45bdacbf0"
   },
   "outputs": [
    {
     "name": "stdout",
     "output_type": "stream",
     "text": [
      "(1399, 150, 150, 1)\n"
     ]
    },
    {
     "data": {
      "text/plain": [
       "<matplotlib.image.AxesImage at 0x7fcab6370a50>"
      ]
     },
     "execution_count": 48,
     "metadata": {
      "tags": []
     },
     "output_type": "execute_result"
    },
    {
     "data": {
      "image/png": "[encoded data removed]",
      "text/plain": [
       "<Figure size 432x288 with 1 Axes>"
      ]
     },
     "metadata": {
      "needs_background": "light",
      "tags": []
     },
     "output_type": "display_data"
    }
   ],
   "source": [
    "\n",
    "import matplotlib.pyplot as plt\n",
    "\n",
    "trainImages = np.array([i for i in imagearr]).reshape(-1,150, 150, 1)\n",
    "print(trainImages.shape)\n",
    "plt.imshow(np.asarray(imagearr)[4])"
   ]
  },
  {
   "cell_type": "code",
   "execution_count": null,
   "metadata": {
    "id": "WD0YHGb-HQJo"
   },
   "outputs": [],
   "source": [
    "img_dir='dataset/testImages/'\n",
    "test_images=np.array(test.iloc[:,0])\n",
    "imagearr=[]\n",
    "for i in test_images:\n",
    "    img=Image.open(img_dir+i).convert('L')\n",
    "    img=img.resize((150,150),Image.ANTIALIAS)\n",
    "    imagearr.append(np.array(img))"
   ]
  },
  {
   "cell_type": "code",
   "execution_count": null,
   "metadata": {
    "colab": {
     "base_uri": "https://localhost:8080/"
    },
    "id": "tN1heO5lHZpd",
    "outputId": "d32a3f98-30b5-46dd-b73e-9a797724cc4d"
   },
   "outputs": [
    {
     "name": "stdout",
     "output_type": "stream",
     "text": [
      "(600, 150, 150, 1)\n"
     ]
    }
   ],
   "source": [
    "# np.asarray(imagearr)\n",
    "testImages = np.array([i for i in imagearr]).reshape(-1,150,150, 1)\n",
    "print(testImages.shape)"
   ]
  },
  {
   "cell_type": "code",
   "execution_count": null,
   "metadata": {
    "id": "PaIXNpEEHfHx"
   },
   "outputs": [],
   "source": [
    "trainLabels = df2['Condition'].values\n",
    "from keras.utils import np_utils\n",
    "trainLabels.shape\n",
    "trainLabels = np_utils.to_categorical(trainLabels)\n"
   ]
  },
  {
   "cell_type": "code",
   "execution_count": null,
   "metadata": {
    "id": "fC787_TFHmVk"
   },
   "outputs": [],
   "source": [
    "\n",
    "import keras\n",
    "from keras.models import Sequential\n",
    "from keras.layers import Dense, Dropout, Flatten\n",
    "from keras.layers import Conv2D, MaxPooling2D\n",
    "from keras.layers. normalization import BatchNormalization\n",
    "import numpy as np"
   ]
  },
  {
   "cell_type": "code",
   "execution_count": null,
   "metadata": {
    "id": "9FsW_ylyHqBS"
   },
   "outputs": [],
   "source": [
    "model = Sequential()\n",
    "model.add(Conv2D(32, kernel_size = (5, 5), activation='relu', input_shape=(150,150, 1)))\n",
    "model.add(MaxPooling2D(pool_size=(2,2)))\n",
    "model.add(BatchNormalization())\n",
    "model.add(Conv2D(64, kernel_size=(5,5), activation='relu'))\n",
    "model.add(MaxPooling2D(pool_size=(2,2)))\n",
    "model.add(BatchNormalization())\n",
    "model.add(Conv2D(128, kernel_size=(5,5), activation='relu'))\n",
    "model.add(MaxPooling2D(pool_size=(2,2)))\n",
    "model.add(BatchNormalization())\n",
    "#model.add(Conv2D(64, kernel_size=(3,3), activation='relu'))\n",
    "#model.add(MaxPooling2D(pool_size=(2,2)))\n",
    "#model.add(BatchNormalization())\n",
    "model.add(Conv2D(64, kernel_size=(5,5), activation='relu'))\n",
    "model.add(MaxPooling2D(pool_size=(2,2)))\n",
    "model.add(BatchNormalization())\n",
    "model.add(Dropout(0.2))\n",
    "model.add(Flatten())\n",
    "#model.add(Dense(256, activation='relu'))\n",
    "model.add(Dropout(0.2))\n",
    "model.add(Dense(128, activation='sigmoid'))\n",
    "model.add(Dropout(0.3))\n",
    "model.add(Dense(2, activation = 'softmax'))"
   ]
  },
  {
   "cell_type": "code",
   "execution_count": null,
   "metadata": {
    "colab": {
     "base_uri": "https://localhost:8080/"
    },
    "id": "d1ZhJ9aGKLHs",
    "outputId": "1f1e1b47-c371-406b-e7d5-ba5a75cb4431"
   },
   "outputs": [
    {
     "name": "stdout",
     "output_type": "stream",
     "text": [
      "Model: \"sequential_1\"\n",
      "_________________________________________________________________\n",
      "Layer (type)                 Output Shape              Param #   \n",
      "=================================================================\n",
      "conv2d_4 (Conv2D)            (None, 146, 146, 32)      832       \n",
      "_________________________________________________________________\n",
      "max_pooling2d_4 (MaxPooling2 (None, 73, 73, 32)        0         \n",
      "_________________________________________________________________\n",
      "batch_normalization_4 (Batch (None, 73, 73, 32)        128       \n",
      "_________________________________________________________________\n",
      "conv2d_5 (Conv2D)            (None, 69, 69, 64)        51264     \n",
      "_________________________________________________________________\n",
      "max_pooling2d_5 (MaxPooling2 (None, 34, 34, 64)        0         \n",
      "_________________________________________________________________\n",
      "batch_normalization_5 (Batch (None, 34, 34, 64)        256       \n",
      "_________________________________________________________________\n",
      "conv2d_6 (Conv2D)            (None, 30, 30, 128)       204928    \n",
      "_________________________________________________________________\n",
      "max_pooling2d_6 (MaxPooling2 (None, 15, 15, 128)       0         \n",
      "_________________________________________________________________\n",
      "batch_normalization_6 (Batch (None, 15, 15, 128)       512       \n",
      "_________________________________________________________________\n",
      "conv2d_7 (Conv2D)            (None, 11, 11, 64)        204864    \n",
      "_________________________________________________________________\n",
      "max_pooling2d_7 (MaxPooling2 (None, 5, 5, 64)          0         \n",
      "_________________________________________________________________\n",
      "batch_normalization_7 (Batch (None, 5, 5, 64)          256       \n",
      "_________________________________________________________________\n",
      "dropout_3 (Dropout)          (None, 5, 5, 64)          0         \n",
      "_________________________________________________________________\n",
      "flatten_1 (Flatten)          (None, 1600)              0         \n",
      "_________________________________________________________________\n",
      "dropout_4 (Dropout)          (None, 1600)              0         \n",
      "_________________________________________________________________\n",
      "dense_2 (Dense)              (None, 128)               204928    \n",
      "_________________________________________________________________\n",
      "dropout_5 (Dropout)          (None, 128)               0         \n",
      "_________________________________________________________________\n",
      "dense_3 (Dense)              (None, 2)                 258       \n",
      "=================================================================\n",
      "Total params: 668,226\n",
      "Trainable params: 667,650\n",
      "Non-trainable params: 576\n",
      "_________________________________________________________________\n"
     ]
    }
   ],
   "source": [
    "model.summary()"
   ]
  },
  {
   "cell_type": "code",
   "execution_count": null,
   "metadata": {
    "id": "h5kXOg7pKOFD"
   },
   "outputs": [],
   "source": [
    "model.compile(loss='categorical_crossentropy', optimizer='adam', metrics = ['accuracy'])"
   ]
  },
  {
   "cell_type": "code",
   "execution_count": null,
   "metadata": {
    "colab": {
     "base_uri": "https://localhost:8080/"
    },
    "id": "UMYyvXJiKSO5",
    "outputId": "d267e3b1-1dd8-432e-f796-1d59d98f46d6"
   },
   "outputs": [
    {
     "name": "stdout",
     "output_type": "stream",
     "text": [
      "Epoch 1/200\n",
      "14/14 [==============================] - 40s 204ms/step - loss: 0.3433 - accuracy: 0.8914\n",
      "Epoch 2/200\n",
      "14/14 [==============================] - 1s 83ms/step - loss: 0.2187 - accuracy: 0.9301\n",
      "Epoch 3/200\n",
      "14/14 [==============================] - 1s 83ms/step - loss: 0.2354 - accuracy: 0.9310\n",
      "Epoch 4/200\n",
      "14/14 [==============================] - 1s 83ms/step - loss: 0.2081 - accuracy: 0.9359\n",
      "Epoch 5/200\n",
      "14/14 [==============================] - 1s 83ms/step - loss: 0.1597 - accuracy: 0.9411\n",
      "Epoch 6/200\n",
      "14/14 [==============================] - 1s 83ms/step - loss: 0.1213 - accuracy: 0.9652\n",
      "Epoch 7/200\n",
      "14/14 [==============================] - 1s 84ms/step - loss: 0.0948 - accuracy: 0.9701\n",
      "Epoch 8/200\n",
      "14/14 [==============================] - 1s 83ms/step - loss: 0.0956 - accuracy: 0.9750\n",
      "Epoch 9/200\n",
      "14/14 [==============================] - 1s 83ms/step - loss: 0.0733 - accuracy: 0.9804\n",
      "Epoch 10/200\n",
      "14/14 [==============================] - 1s 83ms/step - loss: 0.0769 - accuracy: 0.9709\n",
      "Epoch 11/200\n",
      "14/14 [==============================] - 1s 83ms/step - loss: 0.0710 - accuracy: 0.9765\n",
      "Epoch 12/200\n",
      "14/14 [==============================] - 1s 84ms/step - loss: 0.0495 - accuracy: 0.9896\n",
      "Epoch 13/200\n",
      "14/14 [==============================] - 1s 84ms/step - loss: 0.0335 - accuracy: 0.9909\n",
      "Epoch 14/200\n",
      "14/14 [==============================] - 1s 83ms/step - loss: 0.0300 - accuracy: 0.9927\n",
      "Epoch 15/200\n",
      "14/14 [==============================] - 1s 85ms/step - loss: 0.0307 - accuracy: 0.9947\n",
      "Epoch 16/200\n",
      "14/14 [==============================] - 1s 84ms/step - loss: 0.0218 - accuracy: 0.9954\n",
      "Epoch 17/200\n",
      "14/14 [==============================] - 1s 85ms/step - loss: 0.0170 - accuracy: 0.9969\n",
      "Epoch 18/200\n",
      "14/14 [==============================] - 1s 84ms/step - loss: 0.0140 - accuracy: 0.9984\n",
      "Epoch 19/200\n",
      "14/14 [==============================] - 1s 84ms/step - loss: 0.0108 - accuracy: 0.9991\n",
      "Epoch 20/200\n",
      "14/14 [==============================] - 1s 84ms/step - loss: 0.0112 - accuracy: 0.9993\n",
      "Epoch 21/200\n",
      "14/14 [==============================] - 1s 84ms/step - loss: 0.0083 - accuracy: 0.9992\n",
      "Epoch 22/200\n",
      "14/14 [==============================] - 1s 84ms/step - loss: 0.0073 - accuracy: 0.9976\n",
      "Epoch 23/200\n",
      "14/14 [==============================] - 1s 85ms/step - loss: 0.0040 - accuracy: 0.9999\n",
      "Epoch 24/200\n",
      "14/14 [==============================] - 1s 85ms/step - loss: 0.0042 - accuracy: 0.9992\n",
      "Epoch 25/200\n",
      "14/14 [==============================] - 1s 85ms/step - loss: 0.0028 - accuracy: 1.0000\n",
      "Epoch 26/200\n",
      "14/14 [==============================] - 1s 84ms/step - loss: 0.0043 - accuracy: 1.0000\n",
      "Epoch 27/200\n",
      "14/14 [==============================] - 1s 85ms/step - loss: 0.0022 - accuracy: 0.9999\n",
      "Epoch 28/200\n",
      "14/14 [==============================] - 1s 85ms/step - loss: 0.0017 - accuracy: 0.9999\n",
      "Epoch 29/200\n",
      "14/14 [==============================] - 1s 85ms/step - loss: 0.0018 - accuracy: 0.9999\n",
      "Epoch 30/200\n",
      "14/14 [==============================] - 1s 85ms/step - loss: 0.0058 - accuracy: 0.9984\n",
      "Epoch 31/200\n",
      "14/14 [==============================] - 1s 85ms/step - loss: 0.0026 - accuracy: 0.9995\n",
      "Epoch 32/200\n",
      "14/14 [==============================] - 1s 85ms/step - loss: 0.0037 - accuracy: 0.9986\n",
      "Epoch 33/200\n",
      "14/14 [==============================] - 1s 85ms/step - loss: 0.0029 - accuracy: 0.9988\n",
      "Epoch 34/200\n",
      "14/14 [==============================] - 1s 85ms/step - loss: 0.0020 - accuracy: 0.9997\n",
      "Epoch 35/200\n",
      "14/14 [==============================] - 1s 86ms/step - loss: 0.0016 - accuracy: 1.0000\n",
      "Epoch 36/200\n",
      "14/14 [==============================] - 1s 85ms/step - loss: 0.0019 - accuracy: 0.9988\n",
      "Epoch 37/200\n",
      "14/14 [==============================] - 1s 85ms/step - loss: 0.0036 - accuracy: 0.9975\n",
      "Epoch 38/200\n",
      "14/14 [==============================] - 1s 86ms/step - loss: 0.0015 - accuracy: 0.9992\n",
      "Epoch 39/200\n",
      "14/14 [==============================] - 1s 85ms/step - loss: 0.0021 - accuracy: 0.9998\n",
      "Epoch 40/200\n",
      "14/14 [==============================] - 1s 86ms/step - loss: 0.0014 - accuracy: 0.9994\n",
      "Epoch 41/200\n",
      "14/14 [==============================] - 1s 86ms/step - loss: 0.0088 - accuracy: 0.9977\n",
      "Epoch 42/200\n",
      "14/14 [==============================] - 1s 86ms/step - loss: 0.0015 - accuracy: 0.9992\n",
      "Epoch 43/200\n",
      "14/14 [==============================] - 1s 86ms/step - loss: 0.0018 - accuracy: 0.9993\n",
      "Epoch 44/200\n",
      "14/14 [==============================] - 1s 87ms/step - loss: 0.0015 - accuracy: 0.9990\n",
      "Epoch 45/200\n",
      "14/14 [==============================] - 1s 86ms/step - loss: 0.0032 - accuracy: 0.9981\n",
      "Epoch 46/200\n",
      "14/14 [==============================] - 1s 86ms/step - loss: 7.8474e-04 - accuracy: 0.9999\n",
      "Epoch 47/200\n",
      "14/14 [==============================] - 1s 87ms/step - loss: 0.0028 - accuracy: 0.9988\n",
      "Epoch 48/200\n",
      "14/14 [==============================] - 1s 87ms/step - loss: 0.0015 - accuracy: 0.9997\n",
      "Epoch 49/200\n",
      "14/14 [==============================] - 1s 87ms/step - loss: 6.9557e-04 - accuracy: 1.0000\n",
      "Epoch 50/200\n",
      "14/14 [==============================] - 1s 87ms/step - loss: 6.8677e-04 - accuracy: 0.9997\n",
      "Epoch 51/200\n",
      "14/14 [==============================] - 1s 88ms/step - loss: 0.0016 - accuracy: 1.0000\n",
      "Epoch 52/200\n",
      "14/14 [==============================] - 1s 87ms/step - loss: 8.1516e-04 - accuracy: 0.9996\n",
      "Epoch 53/200\n",
      "14/14 [==============================] - 1s 88ms/step - loss: 0.0017 - accuracy: 0.9992\n",
      "Epoch 54/200\n",
      "14/14 [==============================] - 1s 87ms/step - loss: 0.0018 - accuracy: 0.9990\n",
      "Epoch 55/200\n",
      "14/14 [==============================] - 1s 88ms/step - loss: 9.2316e-04 - accuracy: 1.0000\n",
      "Epoch 56/200\n",
      "14/14 [==============================] - 1s 88ms/step - loss: 0.0012 - accuracy: 0.9999\n",
      "Epoch 57/200\n",
      "14/14 [==============================] - 1s 88ms/step - loss: 6.2346e-04 - accuracy: 0.9998\n",
      "Epoch 58/200\n",
      "14/14 [==============================] - 1s 89ms/step - loss: 8.9413e-04 - accuracy: 0.9993\n",
      "Epoch 59/200\n",
      "14/14 [==============================] - 1s 89ms/step - loss: 6.5354e-04 - accuracy: 1.0000\n",
      "Epoch 60/200\n",
      "14/14 [==============================] - 1s 88ms/step - loss: 8.7715e-04 - accuracy: 1.0000\n",
      "Epoch 61/200\n",
      "14/14 [==============================] - 1s 87ms/step - loss: 0.0026 - accuracy: 0.9983\n",
      "Epoch 62/200\n",
      "14/14 [==============================] - 1s 88ms/step - loss: 0.0021 - accuracy: 0.9988\n",
      "Epoch 63/200\n",
      "14/14 [==============================] - 1s 87ms/step - loss: 0.0044 - accuracy: 0.9966\n",
      "Epoch 64/200\n",
      "14/14 [==============================] - 1s 88ms/step - loss: 0.0026 - accuracy: 0.9988\n",
      "Epoch 65/200\n",
      "14/14 [==============================] - 1s 87ms/step - loss: 8.4442e-04 - accuracy: 1.0000\n",
      "Epoch 66/200\n",
      "14/14 [==============================] - 1s 88ms/step - loss: 5.8463e-04 - accuracy: 0.9997\n",
      "Epoch 67/200\n",
      "14/14 [==============================] - 1s 87ms/step - loss: 0.0014 - accuracy: 0.9996\n",
      "Epoch 68/200\n",
      "14/14 [==============================] - 1s 87ms/step - loss: 0.0014 - accuracy: 1.0000\n",
      "Epoch 69/200\n",
      "14/14 [==============================] - 1s 88ms/step - loss: 0.0021 - accuracy: 0.9975\n",
      "Epoch 70/200\n",
      "14/14 [==============================] - 1s 87ms/step - loss: 4.4423e-04 - accuracy: 0.9999\n",
      "Epoch 71/200\n",
      "14/14 [==============================] - 1s 87ms/step - loss: 6.9306e-04 - accuracy: 1.0000\n",
      "Epoch 72/200\n",
      "14/14 [==============================] - 1s 87ms/step - loss: 0.0010 - accuracy: 1.0000\n",
      "Epoch 73/200\n",
      "14/14 [==============================] - 1s 86ms/step - loss: 0.0015 - accuracy: 0.9990\n",
      "Epoch 74/200\n",
      "14/14 [==============================] - 1s 86ms/step - loss: 8.2924e-04 - accuracy: 0.9992\n",
      "Epoch 75/200\n",
      "14/14 [==============================] - 1s 86ms/step - loss: 0.0018 - accuracy: 0.9999\n",
      "Epoch 76/200\n",
      "14/14 [==============================] - 1s 86ms/step - loss: 0.0010 - accuracy: 1.0000\n",
      "Epoch 77/200\n",
      "14/14 [==============================] - 1s 86ms/step - loss: 3.5604e-04 - accuracy: 0.9999\n",
      "Epoch 78/200\n",
      "14/14 [==============================] - 1s 86ms/step - loss: 9.0858e-04 - accuracy: 0.9994\n",
      "Epoch 79/200\n",
      "14/14 [==============================] - 1s 86ms/step - loss: 5.4847e-04 - accuracy: 0.9999\n",
      "Epoch 80/200\n",
      "14/14 [==============================] - 1s 86ms/step - loss: 0.0030 - accuracy: 0.9973\n",
      "Epoch 81/200\n",
      "14/14 [==============================] - 1s 86ms/step - loss: 0.0042 - accuracy: 0.9970\n",
      "Epoch 82/200\n",
      "14/14 [==============================] - 1s 86ms/step - loss: 0.0023 - accuracy: 0.9978\n",
      "Epoch 83/200\n",
      "14/14 [==============================] - 1s 86ms/step - loss: 8.5448e-04 - accuracy: 1.0000\n",
      "Epoch 84/200\n",
      "14/14 [==============================] - 1s 86ms/step - loss: 6.6306e-04 - accuracy: 1.0000\n",
      "Epoch 85/200\n",
      "14/14 [==============================] - 1s 86ms/step - loss: 2.9933e-04 - accuracy: 1.0000\n",
      "Epoch 86/200\n",
      "14/14 [==============================] - 1s 86ms/step - loss: 3.6374e-04 - accuracy: 1.0000\n",
      "Epoch 87/200\n",
      "14/14 [==============================] - 1s 86ms/step - loss: 8.0118e-04 - accuracy: 0.9996\n",
      "Epoch 88/200\n",
      "14/14 [==============================] - 1s 86ms/step - loss: 0.0019 - accuracy: 0.9993\n",
      "Epoch 89/200\n",
      "14/14 [==============================] - 1s 86ms/step - loss: 0.0011 - accuracy: 0.9998\n",
      "Epoch 90/200\n",
      "14/14 [==============================] - 1s 86ms/step - loss: 7.0903e-04 - accuracy: 0.9996\n",
      "Epoch 91/200\n",
      "14/14 [==============================] - 1s 86ms/step - loss: 0.0014 - accuracy: 1.0000\n",
      "Epoch 92/200\n",
      "14/14 [==============================] - 1s 86ms/step - loss: 0.0044 - accuracy: 0.9966\n",
      "Epoch 93/200\n",
      "14/14 [==============================] - 1s 85ms/step - loss: 0.0012 - accuracy: 0.9993\n",
      "Epoch 94/200\n",
      "14/14 [==============================] - 1s 86ms/step - loss: 0.0018 - accuracy: 0.9988\n",
      "Epoch 95/200\n",
      "14/14 [==============================] - 1s 86ms/step - loss: 0.0031 - accuracy: 0.9988\n",
      "Epoch 96/200\n",
      "14/14 [==============================] - 1s 85ms/step - loss: 0.0021 - accuracy: 0.9992\n",
      "Epoch 97/200\n",
      "14/14 [==============================] - 1s 87ms/step - loss: 0.0016 - accuracy: 0.9983\n",
      "Epoch 98/200\n",
      "14/14 [==============================] - 1s 86ms/step - loss: 0.0011 - accuracy: 0.9994\n",
      "Epoch 99/200\n",
      "14/14 [==============================] - 1s 86ms/step - loss: 0.0021 - accuracy: 0.9992\n",
      "Epoch 100/200\n",
      "14/14 [==============================] - 1s 86ms/step - loss: 8.7409e-04 - accuracy: 0.9992\n",
      "Epoch 101/200\n",
      "14/14 [==============================] - 1s 87ms/step - loss: 8.8026e-04 - accuracy: 0.9995\n",
      "Epoch 102/200\n",
      "14/14 [==============================] - 1s 86ms/step - loss: 0.0043 - accuracy: 0.9980\n",
      "Epoch 103/200\n",
      "14/14 [==============================] - 1s 86ms/step - loss: 2.0393e-04 - accuracy: 1.0000\n",
      "Epoch 104/200\n",
      "14/14 [==============================] - 1s 87ms/step - loss: 0.0010 - accuracy: 0.9992\n",
      "Epoch 105/200\n",
      "14/14 [==============================] - 1s 86ms/step - loss: 0.0027 - accuracy: 0.9990\n",
      "Epoch 106/200\n",
      "14/14 [==============================] - 1s 86ms/step - loss: 3.6320e-04 - accuracy: 0.9999\n",
      "Epoch 107/200\n",
      "14/14 [==============================] - 1s 87ms/step - loss: 0.0015 - accuracy: 0.9987\n",
      "Epoch 108/200\n",
      "14/14 [==============================] - 1s 87ms/step - loss: 0.0021 - accuracy: 0.9985\n",
      "Epoch 109/200\n",
      "14/14 [==============================] - 1s 86ms/step - loss: 3.6491e-04 - accuracy: 1.0000\n",
      "Epoch 110/200\n",
      "14/14 [==============================] - 1s 86ms/step - loss: 0.0042 - accuracy: 0.9978\n",
      "Epoch 111/200\n",
      "14/14 [==============================] - 1s 86ms/step - loss: 7.1828e-04 - accuracy: 0.9999\n",
      "Epoch 112/200\n",
      "14/14 [==============================] - 1s 86ms/step - loss: 0.0020 - accuracy: 0.9978\n",
      "Epoch 113/200\n",
      "14/14 [==============================] - 1s 87ms/step - loss: 4.2529e-04 - accuracy: 1.0000\n",
      "Epoch 114/200\n",
      "14/14 [==============================] - 1s 86ms/step - loss: 0.0023 - accuracy: 0.9972\n",
      "Epoch 115/200\n",
      "14/14 [==============================] - 1s 86ms/step - loss: 0.0026 - accuracy: 0.9981\n",
      "Epoch 116/200\n",
      "14/14 [==============================] - 1s 86ms/step - loss: 0.0014 - accuracy: 1.0000\n",
      "Epoch 117/200\n",
      "14/14 [==============================] - 1s 86ms/step - loss: 8.5261e-04 - accuracy: 0.9998\n",
      "Epoch 118/200\n",
      "14/14 [==============================] - 1s 86ms/step - loss: 3.0406e-04 - accuracy: 0.9998\n",
      "Epoch 119/200\n",
      "14/14 [==============================] - 1s 86ms/step - loss: 6.2034e-04 - accuracy: 0.9998\n",
      "Epoch 120/200\n",
      "14/14 [==============================] - 1s 86ms/step - loss: 0.0020 - accuracy: 0.9976\n",
      "Epoch 121/200\n",
      "14/14 [==============================] - 1s 87ms/step - loss: 5.7364e-04 - accuracy: 1.0000\n",
      "Epoch 122/200\n",
      "14/14 [==============================] - 1s 86ms/step - loss: 8.2267e-04 - accuracy: 0.9998\n",
      "Epoch 123/200\n",
      "14/14 [==============================] - 1s 87ms/step - loss: 0.0021 - accuracy: 0.9983\n",
      "Epoch 124/200\n",
      "14/14 [==============================] - 1s 87ms/step - loss: 6.5557e-04 - accuracy: 1.0000\n",
      "Epoch 125/200\n",
      "14/14 [==============================] - 1s 86ms/step - loss: 0.0013 - accuracy: 0.9987\n",
      "Epoch 126/200\n",
      "14/14 [==============================] - 1s 87ms/step - loss: 0.0020 - accuracy: 0.9985\n",
      "Epoch 127/200\n",
      "14/14 [==============================] - 1s 87ms/step - loss: 0.0013 - accuracy: 1.0000\n",
      "Epoch 128/200\n",
      "14/14 [==============================] - 1s 87ms/step - loss: 5.6824e-04 - accuracy: 0.9998\n",
      "Epoch 129/200\n",
      "14/14 [==============================] - 1s 87ms/step - loss: 0.0026 - accuracy: 0.9988\n",
      "Epoch 130/200\n",
      "14/14 [==============================] - 1s 87ms/step - loss: 0.0027 - accuracy: 0.9992\n",
      "Epoch 131/200\n",
      "14/14 [==============================] - 1s 87ms/step - loss: 4.1270e-04 - accuracy: 0.9999\n",
      "Epoch 132/200\n",
      "14/14 [==============================] - 1s 86ms/step - loss: 7.4455e-04 - accuracy: 1.0000\n",
      "Epoch 133/200\n",
      "14/14 [==============================] - 1s 87ms/step - loss: 7.3795e-04 - accuracy: 0.9997\n",
      "Epoch 134/200\n",
      "14/14 [==============================] - 1s 87ms/step - loss: 6.4353e-04 - accuracy: 0.9999\n",
      "Epoch 135/200\n",
      "14/14 [==============================] - 1s 86ms/step - loss: 0.0018 - accuracy: 0.9989\n",
      "Epoch 136/200\n",
      "14/14 [==============================] - 1s 87ms/step - loss: 0.0043 - accuracy: 0.9986\n",
      "Epoch 137/200\n",
      "14/14 [==============================] - 1s 87ms/step - loss: 0.1289 - accuracy: 0.9632\n",
      "Epoch 138/200\n",
      "14/14 [==============================] - 1s 86ms/step - loss: 0.2558 - accuracy: 0.9370\n",
      "Epoch 139/200\n",
      "14/14 [==============================] - 1s 87ms/step - loss: 0.1911 - accuracy: 0.9378\n",
      "Epoch 140/200\n",
      "14/14 [==============================] - 1s 88ms/step - loss: 0.1309 - accuracy: 0.9548\n",
      "Epoch 141/200\n",
      "14/14 [==============================] - 1s 87ms/step - loss: 0.0737 - accuracy: 0.9727\n",
      "Epoch 142/200\n",
      "14/14 [==============================] - 1s 86ms/step - loss: 0.0545 - accuracy: 0.9821\n",
      "Epoch 143/200\n",
      "14/14 [==============================] - 1s 87ms/step - loss: 0.0485 - accuracy: 0.9883\n",
      "Epoch 144/200\n",
      "14/14 [==============================] - 1s 86ms/step - loss: 0.0344 - accuracy: 0.9897\n",
      "Epoch 145/200\n",
      "14/14 [==============================] - 1s 86ms/step - loss: 0.0255 - accuracy: 0.9942\n",
      "Epoch 146/200\n",
      "14/14 [==============================] - 1s 86ms/step - loss: 0.0331 - accuracy: 0.9897\n",
      "Epoch 147/200\n",
      "14/14 [==============================] - 1s 86ms/step - loss: 0.0171 - accuracy: 0.9961\n",
      "Epoch 148/200\n",
      "14/14 [==============================] - 1s 86ms/step - loss: 0.0104 - accuracy: 0.9990\n",
      "Epoch 149/200\n",
      "14/14 [==============================] - 1s 86ms/step - loss: 0.0099 - accuracy: 0.9965\n",
      "Epoch 150/200\n",
      "14/14 [==============================] - 1s 85ms/step - loss: 0.0087 - accuracy: 0.9967\n",
      "Epoch 151/200\n",
      "14/14 [==============================] - 1s 86ms/step - loss: 0.0080 - accuracy: 0.9958\n",
      "Epoch 152/200\n",
      "14/14 [==============================] - 1s 87ms/step - loss: 0.0105 - accuracy: 0.9965\n",
      "Epoch 153/200\n",
      "14/14 [==============================] - 1s 85ms/step - loss: 0.0072 - accuracy: 0.9984\n",
      "Epoch 154/200\n",
      "14/14 [==============================] - 1s 86ms/step - loss: 0.0095 - accuracy: 0.9975\n",
      "Epoch 155/200\n",
      "14/14 [==============================] - 1s 86ms/step - loss: 0.0080 - accuracy: 0.9984\n",
      "Epoch 156/200\n",
      "14/14 [==============================] - 1s 86ms/step - loss: 0.0046 - accuracy: 0.9996\n",
      "Epoch 157/200\n",
      "14/14 [==============================] - 1s 86ms/step - loss: 0.0042 - accuracy: 0.9994\n",
      "Epoch 158/200\n",
      "14/14 [==============================] - 1s 87ms/step - loss: 0.0044 - accuracy: 0.9981\n",
      "Epoch 159/200\n",
      "14/14 [==============================] - 1s 87ms/step - loss: 0.0042 - accuracy: 0.9995\n",
      "Epoch 160/200\n",
      "14/14 [==============================] - 1s 86ms/step - loss: 0.0105 - accuracy: 0.9960\n",
      "Epoch 161/200\n",
      "14/14 [==============================] - 1s 86ms/step - loss: 0.0110 - accuracy: 0.9949\n",
      "Epoch 162/200\n",
      "14/14 [==============================] - 1s 86ms/step - loss: 0.0047 - accuracy: 0.9988\n",
      "Epoch 163/200\n",
      "14/14 [==============================] - 1s 86ms/step - loss: 0.0054 - accuracy: 0.9975\n",
      "Epoch 164/200\n",
      "14/14 [==============================] - 1s 86ms/step - loss: 0.0050 - accuracy: 0.9979\n",
      "Epoch 165/200\n",
      "14/14 [==============================] - 1s 87ms/step - loss: 0.0053 - accuracy: 0.9986\n",
      "Epoch 166/200\n",
      "14/14 [==============================] - 1s 86ms/step - loss: 0.0035 - accuracy: 0.9987\n",
      "Epoch 167/200\n",
      "14/14 [==============================] - 1s 86ms/step - loss: 0.0040 - accuracy: 0.9988\n",
      "Epoch 168/200\n",
      "14/14 [==============================] - 1s 86ms/step - loss: 0.0047 - accuracy: 0.9988\n",
      "Epoch 169/200\n",
      "14/14 [==============================] - 1s 86ms/step - loss: 0.0038 - accuracy: 0.9988\n",
      "Epoch 170/200\n",
      "14/14 [==============================] - 1s 85ms/step - loss: 0.0013 - accuracy: 0.9994\n",
      "Epoch 171/200\n",
      "14/14 [==============================] - 1s 86ms/step - loss: 0.0029 - accuracy: 0.9995\n",
      "Epoch 172/200\n",
      "14/14 [==============================] - 1s 87ms/step - loss: 0.0050 - accuracy: 0.9984\n",
      "Epoch 173/200\n",
      "14/14 [==============================] - 1s 87ms/step - loss: 0.0088 - accuracy: 0.9968\n",
      "Epoch 174/200\n",
      "14/14 [==============================] - 1s 86ms/step - loss: 0.0069 - accuracy: 0.9989\n",
      "Epoch 175/200\n",
      "14/14 [==============================] - 1s 85ms/step - loss: 0.0091 - accuracy: 0.9946\n",
      "Epoch 176/200\n",
      "14/14 [==============================] - 1s 86ms/step - loss: 0.0117 - accuracy: 0.9960\n",
      "Epoch 177/200\n",
      "14/14 [==============================] - 1s 86ms/step - loss: 0.0043 - accuracy: 0.9996\n",
      "Epoch 178/200\n",
      "14/14 [==============================] - 1s 85ms/step - loss: 0.0037 - accuracy: 0.9993\n",
      "Epoch 179/200\n",
      "14/14 [==============================] - 1s 85ms/step - loss: 0.0028 - accuracy: 0.9999\n",
      "Epoch 180/200\n",
      "14/14 [==============================] - 1s 86ms/step - loss: 0.0038 - accuracy: 0.9989\n",
      "Epoch 181/200\n",
      "14/14 [==============================] - 1s 85ms/step - loss: 0.0029 - accuracy: 0.9985\n",
      "Epoch 182/200\n",
      "14/14 [==============================] - 1s 85ms/step - loss: 0.0098 - accuracy: 0.9942\n",
      "Epoch 183/200\n",
      "14/14 [==============================] - 1s 86ms/step - loss: 0.0017 - accuracy: 0.9999\n",
      "Epoch 184/200\n",
      "14/14 [==============================] - 1s 87ms/step - loss: 0.0032 - accuracy: 0.9980\n",
      "Epoch 185/200\n",
      "14/14 [==============================] - 1s 86ms/step - loss: 0.0029 - accuracy: 0.9989\n",
      "Epoch 186/200\n",
      "14/14 [==============================] - 1s 87ms/step - loss: 0.0011 - accuracy: 0.9995\n",
      "Epoch 187/200\n",
      "14/14 [==============================] - 1s 86ms/step - loss: 0.0022 - accuracy: 0.9988\n",
      "Epoch 188/200\n",
      "14/14 [==============================] - 1s 86ms/step - loss: 0.0013 - accuracy: 0.9993\n",
      "Epoch 189/200\n",
      "14/14 [==============================] - 1s 86ms/step - loss: 0.0011 - accuracy: 0.9997\n",
      "Epoch 190/200\n",
      "14/14 [==============================] - 1s 85ms/step - loss: 0.0013 - accuracy: 0.9993\n",
      "Epoch 191/200\n",
      "14/14 [==============================] - 1s 86ms/step - loss: 9.2096e-04 - accuracy: 0.9997\n",
      "Epoch 192/200\n",
      "14/14 [==============================] - 1s 86ms/step - loss: 6.5614e-04 - accuracy: 0.9997\n",
      "Epoch 193/200\n",
      "14/14 [==============================] - 1s 86ms/step - loss: 6.9657e-04 - accuracy: 1.0000\n",
      "Epoch 194/200\n",
      "14/14 [==============================] - 1s 87ms/step - loss: 0.0044 - accuracy: 0.9962\n",
      "Epoch 195/200\n",
      "14/14 [==============================] - 1s 87ms/step - loss: 0.0014 - accuracy: 1.0000\n",
      "Epoch 196/200\n",
      "14/14 [==============================] - 1s 86ms/step - loss: 0.0035 - accuracy: 0.9992\n",
      "Epoch 197/200\n",
      "14/14 [==============================] - 1s 86ms/step - loss: 9.4973e-04 - accuracy: 0.9993\n",
      "Epoch 198/200\n",
      "14/14 [==============================] - 1s 86ms/step - loss: 0.0016 - accuracy: 0.9991\n",
      "Epoch 199/200\n",
      "14/14 [==============================] - 1s 87ms/step - loss: 0.0016 - accuracy: 0.9989\n",
      "Epoch 200/200\n",
      "14/14 [==============================] - 1s 86ms/step - loss: 7.7179e-04 - accuracy: 1.0000\n"
     ]
    },
    {
     "data": {
      "text/plain": [
       "<keras.callbacks.History at 0x7fca242bac10>"
      ]
     },
     "execution_count": 68,
     "metadata": {
      "tags": []
     },
     "output_type": "execute_result"
    }
   ],
   "source": [
    "model.fit(trainImages, trainLabels, batch_size = 100, epochs = 200, verbose = 1)"
   ]
  },
  {
   "cell_type": "code",
   "execution_count": null,
   "metadata": {
    "colab": {
     "base_uri": "https://localhost:8080/"
    },
    "id": "ITJ-dK7LKU7L",
    "outputId": "af7b1a5d-78ac-4035-ac82-70bef67849e5"
   },
   "outputs": [
    {
     "name": "stderr",
     "output_type": "stream",
     "text": [
      "/usr/local/lib/python3.7/dist-packages/keras/engine/sequential.py:450: UserWarning: `model.predict_classes()` is deprecated and will be removed after 2021-01-01. Please use instead:* `np.argmax(model.predict(x), axis=-1)`,   if your model does multi-class classification   (e.g. if it uses a `softmax` last-layer activation).* `(model.predict(x) > 0.5).astype(\"int32\")`,   if your model does binary classification   (e.g. if it uses a `sigmoid` last-layer activation).\n",
      "  warnings.warn('`model.predict_classes()` is deprecated and '\n"
     ]
    },
    {
     "data": {
      "text/plain": [
       "array([1, 1, 1, 1, ..., 1, 0, 1, 1])"
      ]
     },
     "execution_count": 69,
     "metadata": {
      "tags": []
     },
     "output_type": "execute_result"
    }
   ],
   "source": [
    "predictions = model.predict_classes(testImages)\n",
    "predictions"
   ]
  },
  {
   "cell_type": "code",
   "execution_count": null,
   "metadata": {
    "colab": {
     "base_uri": "https://localhost:8080/",
     "height": 304
    },
    "id": "C1iqdAtJL7yv",
    "outputId": "28e0a781-6f70-4c5c-bf8a-1087c5bcb26e"
   },
   "outputs": [
    {
     "name": "stderr",
     "output_type": "stream",
     "text": [
      "/usr/local/lib/python3.7/dist-packages/ipykernel_launcher.py:1: SettingWithCopyWarning: \n",
      "A value is trying to be set on a copy of a slice from a DataFrame.\n",
      "Try using .loc[row_indexer,col_indexer] = value instead\n",
      "\n",
      "See the caveats in the documentation: https://pandas.pydata.org/pandas-docs/stable/user_guide/indexing.html#returning-a-view-versus-a-copy\n",
      "  \"\"\"Entry point for launching an IPython kernel.\n"
     ]
    },
    {
     "data": {
      "text/html": [
       "<div>\n",
       "<style scoped>\n",
       "    .dataframe tbody tr th:only-of-type {\n",
       "        vertical-align: middle;\n",
       "    }\n",
       "\n",
       "    .dataframe tbody tr th {\n",
       "        vertical-align: top;\n",
       "    }\n",
       "\n",
       "    .dataframe thead th {\n",
       "        text-align: right;\n",
       "    }\n",
       "</style>\n",
       "<table border=\"1\" class=\"dataframe\">\n",
       "  <thead>\n",
       "    <tr style=\"text-align: right;\">\n",
       "      <th></th>\n",
       "      <th>Image_path</th>\n",
       "      <th>Condition</th>\n",
       "      <th>Conditions</th>\n",
       "    </tr>\n",
       "  </thead>\n",
       "  <tbody>\n",
       "    <tr>\n",
       "      <th>0</th>\n",
       "      <td>img_4538519.jpg</td>\n",
       "      <td></td>\n",
       "      <td>1</td>\n",
       "    </tr>\n",
       "    <tr>\n",
       "      <th>1</th>\n",
       "      <td>img_7766002.jpg</td>\n",
       "      <td></td>\n",
       "      <td>1</td>\n",
       "    </tr>\n",
       "    <tr>\n",
       "      <th>2</th>\n",
       "      <td>img_4637390.jpg</td>\n",
       "      <td></td>\n",
       "      <td>1</td>\n",
       "    </tr>\n",
       "    <tr>\n",
       "      <th>3</th>\n",
       "      <td>img_4516108.jpg</td>\n",
       "      <td></td>\n",
       "      <td>1</td>\n",
       "    </tr>\n",
       "    <tr>\n",
       "      <th>4</th>\n",
       "      <td>img_4517008.jpg</td>\n",
       "      <td></td>\n",
       "      <td>1</td>\n",
       "    </tr>\n",
       "  </tbody>\n",
       "</table>\n",
       "</div>"
      ],
      "text/plain": [
       "        Image_path Condition  Conditions\n",
       "0  img_4538519.jpg                     1\n",
       "1  img_7766002.jpg                     1\n",
       "2  img_4637390.jpg                     1\n",
       "3  img_4516108.jpg                     1\n",
       "4  img_4517008.jpg                     1"
      ]
     },
     "execution_count": 70,
     "metadata": {
      "tags": []
     },
     "output_type": "execute_result"
    }
   ],
   "source": [
    "test['Conditions']=predictions\n",
    "test.head()"
   ]
  },
  {
   "cell_type": "code",
   "execution_count": 2,
   "metadata": {},
   "outputs": [],
   "source": [
    "import pandas as pd\n",
    "import numpy as np\n",
    "\n",
    "import matplotlib.pyplot as plt\n",
    "import seaborn as sns\n",
    "from sklearn.linear_model import LogisticRegression\n",
    "from sklearn import metrics\n",
    "from sklearn.ensemble import RandomForestClassifier as rcf\n",
    "from sklearn.tree import DecisionTreeClassifier as dct\n",
    "from sklearn.model_selection import cross_val_score\n",
    "#from lightgbm import LGBMClassifier as lgb\n",
    "from sklearn.tree import DecisionTreeClassifier as dct\n",
    "from sklearn.preprocessing import LabelEncoder\n",
    "from sklearn.metrics import mean_squared_error, roc_auc_score, roc_curve\n",
    "#from catboost import CatBoostClassifier, Pool"
   ]
  },
  {
   "cell_type": "code",
   "execution_count": 3,
   "metadata": {},
   "outputs": [],
   "source": [
    "df = pd.read_csv(r'C:\\Users\\hemanth.kumar\\Downloads\\DATA\\New folder\\dataset\\train.csv')\n",
    "test2 = pd.read_csv(r'C:\\Users\\hemanth.kumar\\Downloads\\DATA\\New folder\\dataset\\test2.csv')"
   ]
  },
  {
   "cell_type": "code",
   "execution_count": 4,
   "metadata": {
    "colab": {
     "base_uri": "https://localhost:8080/",
     "height": 203
    },
    "id": "siFs1BscMBA3",
    "outputId": "1e22044b-81c2-463f-d6f0-a20c37cfdbe5"
   },
   "outputs": [
    {
     "data": {
      "text/html": [
       "<div>\n",
       "<style scoped>\n",
       "    .dataframe tbody tr th:only-of-type {\n",
       "        vertical-align: middle;\n",
       "    }\n",
       "\n",
       "    .dataframe tbody tr th {\n",
       "        vertical-align: top;\n",
       "    }\n",
       "\n",
       "    .dataframe thead th {\n",
       "        text-align: right;\n",
       "    }\n",
       "</style>\n",
       "<table border=\"1\" class=\"dataframe\">\n",
       "  <thead>\n",
       "    <tr style=\"text-align: right;\">\n",
       "      <th></th>\n",
       "      <th>Image_path</th>\n",
       "      <th>Insurance_company</th>\n",
       "      <th>Cost_of_vehicle</th>\n",
       "      <th>Min_coverage</th>\n",
       "      <th>Expiry_date</th>\n",
       "      <th>Max_coverage</th>\n",
       "      <th>Condition</th>\n",
       "    </tr>\n",
       "  </thead>\n",
       "  <tbody>\n",
       "    <tr>\n",
       "      <th>0</th>\n",
       "      <td>img_4511084.jpg</td>\n",
       "      <td>AA</td>\n",
       "      <td>47200</td>\n",
       "      <td>1180.0</td>\n",
       "      <td>29-07-2026</td>\n",
       "      <td>41101.68</td>\n",
       "      <td>0</td>\n",
       "    </tr>\n",
       "    <tr>\n",
       "      <th>1</th>\n",
       "      <td>img_4511787.jpg</td>\n",
       "      <td>BQ</td>\n",
       "      <td>27000</td>\n",
       "      <td>675.0</td>\n",
       "      <td>13-07-2023</td>\n",
       "      <td>23527.68</td>\n",
       "      <td>0</td>\n",
       "    </tr>\n",
       "    <tr>\n",
       "      <th>2</th>\n",
       "      <td>img_4512558.jpg</td>\n",
       "      <td>RE</td>\n",
       "      <td>47900</td>\n",
       "      <td>1197.5</td>\n",
       "      <td>27-08-2027</td>\n",
       "      <td>41710.68</td>\n",
       "      <td>0</td>\n",
       "    </tr>\n",
       "    <tr>\n",
       "      <th>3</th>\n",
       "      <td>img_4513036.jpg</td>\n",
       "      <td>C</td>\n",
       "      <td>26800</td>\n",
       "      <td>670.0</td>\n",
       "      <td>04-09-2028</td>\n",
       "      <td>23353.68</td>\n",
       "      <td>1</td>\n",
       "    </tr>\n",
       "    <tr>\n",
       "      <th>4</th>\n",
       "      <td>img_4513264.jpg</td>\n",
       "      <td>O</td>\n",
       "      <td>41000</td>\n",
       "      <td>1025.0</td>\n",
       "      <td>12-01-2028</td>\n",
       "      <td>35707.68</td>\n",
       "      <td>1</td>\n",
       "    </tr>\n",
       "  </tbody>\n",
       "</table>\n",
       "</div>"
      ],
      "text/plain": [
       "        Image_path Insurance_company  Cost_of_vehicle  Min_coverage  \\\n",
       "0  img_4511084.jpg                AA            47200        1180.0   \n",
       "1  img_4511787.jpg                BQ            27000         675.0   \n",
       "2  img_4512558.jpg                RE            47900        1197.5   \n",
       "3  img_4513036.jpg                 C            26800         670.0   \n",
       "4  img_4513264.jpg                 O            41000        1025.0   \n",
       "\n",
       "  Expiry_date  Max_coverage  Condition  \n",
       "0  29-07-2026      41101.68          0  \n",
       "1  13-07-2023      23527.68          0  \n",
       "2  27-08-2027      41710.68          0  \n",
       "3  04-09-2028      23353.68          1  \n",
       "4  12-01-2028      35707.68          1  "
      ]
     },
     "execution_count": 4,
     "metadata": {},
     "output_type": "execute_result"
    }
   ],
   "source": [
    "test2.head()"
   ]
  },
  {
   "cell_type": "code",
   "execution_count": 5,
   "metadata": {
    "colab": {
     "base_uri": "https://localhost:8080/",
     "height": 203
    },
    "id": "P3Ij2oMiMM84",
    "outputId": "d59d81de-c825-4a3a-aa40-2bcbee6ba202"
   },
   "outputs": [
    {
     "data": {
      "text/html": [
       "<div>\n",
       "<style scoped>\n",
       "    .dataframe tbody tr th:only-of-type {\n",
       "        vertical-align: middle;\n",
       "    }\n",
       "\n",
       "    .dataframe tbody tr th {\n",
       "        vertical-align: top;\n",
       "    }\n",
       "\n",
       "    .dataframe thead th {\n",
       "        text-align: right;\n",
       "    }\n",
       "</style>\n",
       "<table border=\"1\" class=\"dataframe\">\n",
       "  <thead>\n",
       "    <tr style=\"text-align: right;\">\n",
       "      <th></th>\n",
       "      <th>Image_path</th>\n",
       "      <th>Insurance_company</th>\n",
       "      <th>Cost_of_vehicle</th>\n",
       "      <th>Min_coverage</th>\n",
       "      <th>Expiry_date</th>\n",
       "      <th>Max_coverage</th>\n",
       "      <th>Condition</th>\n",
       "      <th>Amount</th>\n",
       "    </tr>\n",
       "  </thead>\n",
       "  <tbody>\n",
       "    <tr>\n",
       "      <th>0</th>\n",
       "      <td>img_4513976.jpg</td>\n",
       "      <td>BQ</td>\n",
       "      <td>41500.0</td>\n",
       "      <td>1037.5</td>\n",
       "      <td>2026-12-03</td>\n",
       "      <td>36142.68</td>\n",
       "      <td>0</td>\n",
       "      <td>0.0</td>\n",
       "    </tr>\n",
       "    <tr>\n",
       "      <th>1</th>\n",
       "      <td>img_7764995.jpg</td>\n",
       "      <td>BQ</td>\n",
       "      <td>50700.0</td>\n",
       "      <td>1267.5</td>\n",
       "      <td>2025-07-10</td>\n",
       "      <td>12753.00</td>\n",
       "      <td>1</td>\n",
       "      <td>6194.0</td>\n",
       "    </tr>\n",
       "    <tr>\n",
       "      <th>2</th>\n",
       "      <td>img_451308.jpg</td>\n",
       "      <td>A</td>\n",
       "      <td>49500.0</td>\n",
       "      <td>1237.5</td>\n",
       "      <td>2022-08-11</td>\n",
       "      <td>43102.68</td>\n",
       "      <td>0</td>\n",
       "      <td>0.0</td>\n",
       "    </tr>\n",
       "    <tr>\n",
       "      <th>3</th>\n",
       "      <td>img_7768372.jpg</td>\n",
       "      <td>A</td>\n",
       "      <td>33500.0</td>\n",
       "      <td>837.5</td>\n",
       "      <td>2022-08-02</td>\n",
       "      <td>8453.00</td>\n",
       "      <td>1</td>\n",
       "      <td>7699.0</td>\n",
       "    </tr>\n",
       "    <tr>\n",
       "      <th>4</th>\n",
       "      <td>img_7765274.jpg</td>\n",
       "      <td>AC</td>\n",
       "      <td>27600.0</td>\n",
       "      <td>690.0</td>\n",
       "      <td>2026-05-01</td>\n",
       "      <td>6978.00</td>\n",
       "      <td>1</td>\n",
       "      <td>8849.0</td>\n",
       "    </tr>\n",
       "  </tbody>\n",
       "</table>\n",
       "</div>"
      ],
      "text/plain": [
       "        Image_path Insurance_company  Cost_of_vehicle  Min_coverage  \\\n",
       "0  img_4513976.jpg                BQ          41500.0        1037.5   \n",
       "1  img_7764995.jpg                BQ          50700.0        1267.5   \n",
       "2   img_451308.jpg                 A          49500.0        1237.5   \n",
       "3  img_7768372.jpg                 A          33500.0         837.5   \n",
       "4  img_7765274.jpg                AC          27600.0         690.0   \n",
       "\n",
       "  Expiry_date  Max_coverage  Condition  Amount  \n",
       "0  2026-12-03      36142.68          0     0.0  \n",
       "1  2025-07-10      12753.00          1  6194.0  \n",
       "2  2022-08-11      43102.68          0     0.0  \n",
       "3  2022-08-02       8453.00          1  7699.0  \n",
       "4  2026-05-01       6978.00          1  8849.0  "
      ]
     },
     "execution_count": 5,
     "metadata": {},
     "output_type": "execute_result"
    }
   ],
   "source": [
    "df.head()"
   ]
  },
  {
   "cell_type": "code",
   "execution_count": 6,
   "metadata": {},
   "outputs": [
    {
     "data": {
      "text/html": [
       "<div>\n",
       "<style scoped>\n",
       "    .dataframe tbody tr th:only-of-type {\n",
       "        vertical-align: middle;\n",
       "    }\n",
       "\n",
       "    .dataframe tbody tr th {\n",
       "        vertical-align: top;\n",
       "    }\n",
       "\n",
       "    .dataframe thead th {\n",
       "        text-align: right;\n",
       "    }\n",
       "</style>\n",
       "<table border=\"1\" class=\"dataframe\">\n",
       "  <thead>\n",
       "    <tr style=\"text-align: right;\">\n",
       "      <th></th>\n",
       "      <th>Cost_of_vehicle</th>\n",
       "      <th>Min_coverage</th>\n",
       "      <th>Max_coverage</th>\n",
       "      <th>Condition</th>\n",
       "      <th>Amount</th>\n",
       "    </tr>\n",
       "  </thead>\n",
       "  <tbody>\n",
       "    <tr>\n",
       "      <th>count</th>\n",
       "      <td>1310.000000</td>\n",
       "      <td>1310.000000</td>\n",
       "      <td>1310.000000</td>\n",
       "      <td>1399.000000</td>\n",
       "      <td>1388.000000</td>\n",
       "    </tr>\n",
       "    <tr>\n",
       "      <th>mean</th>\n",
       "      <td>37454.274809</td>\n",
       "      <td>936.356870</td>\n",
       "      <td>11242.925160</td>\n",
       "      <td>0.929235</td>\n",
       "      <td>4117.144092</td>\n",
       "    </tr>\n",
       "    <tr>\n",
       "      <th>std</th>\n",
       "      <td>8921.428143</td>\n",
       "      <td>223.035704</td>\n",
       "      <td>7163.735952</td>\n",
       "      <td>0.256523</td>\n",
       "      <td>3151.516223</td>\n",
       "    </tr>\n",
       "    <tr>\n",
       "      <th>min</th>\n",
       "      <td>11100.000000</td>\n",
       "      <td>277.500000</td>\n",
       "      <td>2853.000000</td>\n",
       "      <td>0.000000</td>\n",
       "      <td>-999.000000</td>\n",
       "    </tr>\n",
       "    <tr>\n",
       "      <th>25%</th>\n",
       "      <td>29800.000000</td>\n",
       "      <td>745.000000</td>\n",
       "      <td>7603.000000</td>\n",
       "      <td>1.000000</td>\n",
       "      <td>1641.750000</td>\n",
       "    </tr>\n",
       "    <tr>\n",
       "      <th>50%</th>\n",
       "      <td>37300.000000</td>\n",
       "      <td>932.500000</td>\n",
       "      <td>9678.000000</td>\n",
       "      <td>1.000000</td>\n",
       "      <td>4070.000000</td>\n",
       "    </tr>\n",
       "    <tr>\n",
       "      <th>75%</th>\n",
       "      <td>45175.000000</td>\n",
       "      <td>1129.375000</td>\n",
       "      <td>11703.000000</td>\n",
       "      <td>1.000000</td>\n",
       "      <td>6039.500000</td>\n",
       "    </tr>\n",
       "    <tr>\n",
       "      <th>max</th>\n",
       "      <td>53500.000000</td>\n",
       "      <td>1337.500000</td>\n",
       "      <td>46495.680000</td>\n",
       "      <td>1.000000</td>\n",
       "      <td>59844.000000</td>\n",
       "    </tr>\n",
       "  </tbody>\n",
       "</table>\n",
       "</div>"
      ],
      "text/plain": [
       "       Cost_of_vehicle  Min_coverage  Max_coverage    Condition        Amount\n",
       "count      1310.000000   1310.000000   1310.000000  1399.000000   1388.000000\n",
       "mean      37454.274809    936.356870  11242.925160     0.929235   4117.144092\n",
       "std        8921.428143    223.035704   7163.735952     0.256523   3151.516223\n",
       "min       11100.000000    277.500000   2853.000000     0.000000   -999.000000\n",
       "25%       29800.000000    745.000000   7603.000000     1.000000   1641.750000\n",
       "50%       37300.000000    932.500000   9678.000000     1.000000   4070.000000\n",
       "75%       45175.000000   1129.375000  11703.000000     1.000000   6039.500000\n",
       "max       53500.000000   1337.500000  46495.680000     1.000000  59844.000000"
      ]
     },
     "execution_count": 6,
     "metadata": {},
     "output_type": "execute_result"
    }
   ],
   "source": [
    "df.describe()"
   ]
  },
  {
   "cell_type": "code",
   "execution_count": 7,
   "metadata": {
    "id": "XdKi73BWNqum"
   },
   "outputs": [],
   "source": [
    "import numpy as np \n",
    "import pandas as pd\n",
    "import matplotlib.pyplot as plt\n",
    "%matplotlib inline\n",
    "plt.rcParams['figure.figsize'] = (6.0, 4.0)\n",
    "import seaborn as sns\n",
    "from scipy import stats\n",
    "from scipy.stats import norm\n"
   ]
  },
  {
   "cell_type": "code",
   "execution_count": 40,
   "metadata": {
    "colab": {
     "base_uri": "https://localhost:8080/"
    },
    "id": "jPdIaDB5M0Wp",
    "outputId": "871134b2-0219-48b5-cc5a-cf957809baed"
   },
   "outputs": [
    {
     "data": {
      "text/plain": [
       "Image_path            0\n",
       "Insurance_company     0\n",
       "Cost_of_vehicle      89\n",
       "Min_coverage         89\n",
       "Expiry_date           0\n",
       "Max_coverage         89\n",
       "Condition             0\n",
       "Amount               11\n",
       "dtype: int64"
      ]
     },
     "execution_count": 40,
     "metadata": {},
     "output_type": "execute_result"
    }
   ],
   "source": [
    "df.isnull().sum()"
   ]
  },
  {
   "cell_type": "code",
   "execution_count": 41,
   "metadata": {
    "colab": {
     "base_uri": "https://localhost:8080/"
    },
    "id": "eHN-yf3MM3H3",
    "outputId": "0d577254-735a-48bc-f47d-8892c7323e4b"
   },
   "outputs": [
    {
     "name": "stdout",
     "output_type": "stream",
     "text": [
      "(1399, 8)\n",
      "(600, 7)\n"
     ]
    }
   ],
   "source": [
    "print (df.shape)\n",
    "print (test2.shape)"
   ]
  },
  {
   "cell_type": "code",
   "execution_count": 42,
   "metadata": {
    "colab": {
     "base_uri": "https://localhost:8080/",
     "height": 567
    },
    "id": "hFpRb3PYM94a",
    "outputId": "2e527423-58e0-4399-8a21-8b205f0a44a9"
   },
   "outputs": [
    {
     "name": "stderr",
     "output_type": "stream",
     "text": [
      "C:\\Anaconda3\\lib\\site-packages\\seaborn\\distributions.py:2557: FutureWarning: `distplot` is a deprecated function and will be removed in a future version. Please adapt your code to use either `displot` (a figure-level function with similar flexibility) or `histplot` (an axes-level function for histograms).\n",
      "  warnings.warn(msg, FutureWarning)\n"
     ]
    },
    {
     "data": {
      "text/plain": [
       "<AxesSubplot:xlabel='Amount', ylabel='Density'>"
      ]
     },
     "execution_count": 42,
     "metadata": {},
     "output_type": "execute_result"
    },
    {
     "data": {
      "image/png": "[encoded data removed]",
      "text/plain": [
       "<Figure size 576x432 with 1 Axes>"
      ]
     },
     "metadata": {
      "needs_background": "light"
     },
     "output_type": "display_data"
    }
   ],
   "source": [
    "import seaborn as sns\n",
    "sns.distplot(df['Amount'])"
   ]
  },
  {
   "cell_type": "code",
   "execution_count": 43,
   "metadata": {},
   "outputs": [],
   "source": [
    "# Daat Contains Outliers "
   ]
  },
  {
   "cell_type": "code",
   "execution_count": 44,
   "metadata": {
    "colab": {
     "base_uri": "https://localhost:8080/",
     "height": 295
    },
    "id": "vvdYzxVVO4ef",
    "outputId": "48996f8b-d09e-4333-a0d5-447cb97d385f"
   },
   "outputs": [
    {
     "data": {
      "text/html": [
       "<div>\n",
       "<style scoped>\n",
       "    .dataframe tbody tr th:only-of-type {\n",
       "        vertical-align: middle;\n",
       "    }\n",
       "\n",
       "    .dataframe tbody tr th {\n",
       "        vertical-align: top;\n",
       "    }\n",
       "\n",
       "    .dataframe thead th {\n",
       "        text-align: right;\n",
       "    }\n",
       "</style>\n",
       "<table border=\"1\" class=\"dataframe\">\n",
       "  <thead>\n",
       "    <tr style=\"text-align: right;\">\n",
       "      <th></th>\n",
       "      <th>Cost_of_vehicle</th>\n",
       "      <th>Min_coverage</th>\n",
       "      <th>Max_coverage</th>\n",
       "      <th>Condition</th>\n",
       "      <th>Amount</th>\n",
       "    </tr>\n",
       "  </thead>\n",
       "  <tbody>\n",
       "    <tr>\n",
       "      <th>count</th>\n",
       "      <td>1310.000000</td>\n",
       "      <td>1310.000000</td>\n",
       "      <td>1310.000000</td>\n",
       "      <td>1399.000000</td>\n",
       "      <td>1388.000000</td>\n",
       "    </tr>\n",
       "    <tr>\n",
       "      <th>mean</th>\n",
       "      <td>37454.274809</td>\n",
       "      <td>936.356870</td>\n",
       "      <td>11242.925160</td>\n",
       "      <td>0.929235</td>\n",
       "      <td>4117.144092</td>\n",
       "    </tr>\n",
       "    <tr>\n",
       "      <th>std</th>\n",
       "      <td>8921.428143</td>\n",
       "      <td>223.035704</td>\n",
       "      <td>7163.735952</td>\n",
       "      <td>0.256523</td>\n",
       "      <td>3151.516223</td>\n",
       "    </tr>\n",
       "    <tr>\n",
       "      <th>min</th>\n",
       "      <td>11100.000000</td>\n",
       "      <td>277.500000</td>\n",
       "      <td>2853.000000</td>\n",
       "      <td>0.000000</td>\n",
       "      <td>-999.000000</td>\n",
       "    </tr>\n",
       "    <tr>\n",
       "      <th>25%</th>\n",
       "      <td>29800.000000</td>\n",
       "      <td>745.000000</td>\n",
       "      <td>7603.000000</td>\n",
       "      <td>1.000000</td>\n",
       "      <td>1641.750000</td>\n",
       "    </tr>\n",
       "    <tr>\n",
       "      <th>50%</th>\n",
       "      <td>37300.000000</td>\n",
       "      <td>932.500000</td>\n",
       "      <td>9678.000000</td>\n",
       "      <td>1.000000</td>\n",
       "      <td>4070.000000</td>\n",
       "    </tr>\n",
       "    <tr>\n",
       "      <th>75%</th>\n",
       "      <td>45175.000000</td>\n",
       "      <td>1129.375000</td>\n",
       "      <td>11703.000000</td>\n",
       "      <td>1.000000</td>\n",
       "      <td>6039.500000</td>\n",
       "    </tr>\n",
       "    <tr>\n",
       "      <th>max</th>\n",
       "      <td>53500.000000</td>\n",
       "      <td>1337.500000</td>\n",
       "      <td>46495.680000</td>\n",
       "      <td>1.000000</td>\n",
       "      <td>59844.000000</td>\n",
       "    </tr>\n",
       "  </tbody>\n",
       "</table>\n",
       "</div>"
      ],
      "text/plain": [
       "       Cost_of_vehicle  Min_coverage  Max_coverage    Condition        Amount\n",
       "count      1310.000000   1310.000000   1310.000000  1399.000000   1388.000000\n",
       "mean      37454.274809    936.356870  11242.925160     0.929235   4117.144092\n",
       "std        8921.428143    223.035704   7163.735952     0.256523   3151.516223\n",
       "min       11100.000000    277.500000   2853.000000     0.000000   -999.000000\n",
       "25%       29800.000000    745.000000   7603.000000     1.000000   1641.750000\n",
       "50%       37300.000000    932.500000   9678.000000     1.000000   4070.000000\n",
       "75%       45175.000000   1129.375000  11703.000000     1.000000   6039.500000\n",
       "max       53500.000000   1337.500000  46495.680000     1.000000  59844.000000"
      ]
     },
     "execution_count": 44,
     "metadata": {},
     "output_type": "execute_result"
    }
   ],
   "source": [
    "df.describe()"
   ]
  },
  {
   "cell_type": "code",
   "execution_count": 45,
   "metadata": {
    "colab": {
     "base_uri": "https://localhost:8080/",
     "height": 567
    },
    "id": "_Rl3EOLJO4h6",
    "outputId": "362ba708-6217-47f6-8403-3eb03efedd05"
   },
   "outputs": [
    {
     "name": "stderr",
     "output_type": "stream",
     "text": [
      "C:\\Anaconda3\\lib\\site-packages\\seaborn\\_decorators.py:36: FutureWarning: Pass the following variable as a keyword arg: x. From version 0.12, the only valid positional argument will be `data`, and passing other arguments without an explicit keyword will result in an error or misinterpretation.\n",
      "  warnings.warn(\n"
     ]
    },
    {
     "data": {
      "text/plain": [
       "<AxesSubplot:xlabel='Amount'>"
      ]
     },
     "execution_count": 45,
     "metadata": {},
     "output_type": "execute_result"
    },
    {
     "data": {
      "image/png": "[encoded data removed]",
      "text/plain": [
       "<Figure size 576x432 with 1 Axes>"
      ]
     },
     "metadata": {
      "needs_background": "light"
     },
     "output_type": "display_data"
    }
   ],
   "source": [
    "sns.boxplot(df['Amount'])"
   ]
  },
  {
   "cell_type": "code",
   "execution_count": 46,
   "metadata": {
    "colab": {
     "base_uri": "https://localhost:8080/"
    },
    "id": "pHr9aXN7OSPw",
    "outputId": "fe11d461-7644-48a9-ce18-bdeed11772a4"
   },
   "outputs": [
    {
     "data": {
      "text/plain": [
       "Amount             0.007863\n",
       "Cost_of_vehicle    0.063617\n",
       "Min_coverage       0.063617\n",
       "Max_coverage       0.063617\n",
       "dtype: float64"
      ]
     },
     "execution_count": 46,
     "metadata": {},
     "output_type": "execute_result"
    }
   ],
   "source": [
    "miss = df.isnull().sum()/len(df)\n",
    "miss = miss[miss > 0]\n",
    "miss.sort_values(inplace=True)\n",
    "miss"
   ]
  },
  {
   "cell_type": "code",
   "execution_count": 47,
   "metadata": {
    "colab": {
     "base_uri": "https://localhost:8080/"
    },
    "id": "3G0etd8cNG9x",
    "outputId": "78162c0e-04c5-49bc-aeed-fc604373a59a"
   },
   "outputs": [
    {
     "data": {
      "text/plain": [
       "Series([], dtype: float64)"
      ]
     },
     "execution_count": 47,
     "metadata": {},
     "output_type": "execute_result"
    }
   ],
   "source": [
    "miss = test2.isnull().sum()/len(test2)\n",
    "miss = miss[miss > 0]\n",
    "miss.sort_values(inplace=True)\n",
    "miss"
   ]
  },
  {
   "cell_type": "code",
   "execution_count": 48,
   "metadata": {
    "colab": {
     "base_uri": "https://localhost:8080/"
    },
    "id": "ZKh_42udOw0R",
    "outputId": "61872408-4c51-4479-b6ee-a55f5d24e2e4"
   },
   "outputs": [
    {
     "data": {
      "text/plain": [
       "Image_path            object\n",
       "Insurance_company     object\n",
       "Cost_of_vehicle      float64\n",
       "Min_coverage         float64\n",
       "Expiry_date           object\n",
       "Max_coverage         float64\n",
       "Condition              int64\n",
       "Amount               float64\n",
       "dtype: object"
      ]
     },
     "execution_count": 48,
     "metadata": {},
     "output_type": "execute_result"
    }
   ],
   "source": [
    "df.dtypes"
   ]
  },
  {
   "cell_type": "code",
   "execution_count": 8,
   "metadata": {
    "colab": {
     "base_uri": "https://localhost:8080/"
    },
    "id": "91am9TcMPRao",
    "outputId": "70c308e0-81f0-4b63-a0cf-8efa9c19114d"
   },
   "outputs": [
    {
     "name": "stdout",
     "output_type": "stream",
     "text": [
      "There are 5 numeric and 3 categorical columns in train data\n"
     ]
    }
   ],
   "source": [
    "numeric_data = df.select_dtypes(include=[np.number])\n",
    "cat_data = df.select_dtypes(exclude=[np.number])\n",
    "print (\"There are {} numeric and {} categorical columns in train data\".format(numeric_data.shape[1],cat_data.shape[1]))"
   ]
  },
  {
   "cell_type": "code",
   "execution_count": 9,
   "metadata": {
    "colab": {
     "base_uri": "https://localhost:8080/",
     "height": 505
    },
    "id": "vKFOKqP1PcAk",
    "outputId": "c27df320-63d8-4a68-d2e2-8548240172a5"
   },
   "outputs": [
    {
     "data": {
      "text/plain": [
       "<AxesSubplot:>"
      ]
     },
     "execution_count": 9,
     "metadata": {},
     "output_type": "execute_result"
    },
    {
     "data": {
      "image/png": "[encoded data removed]",
      "text/plain": [
       "<Figure size 432x288 with 2 Axes>"
      ]
     },
     "metadata": {
      "needs_background": "light"
     },
     "output_type": "display_data"
    }
   ],
   "source": [
    "#correlation plot\n",
    "corr = numeric_data.corr()\n",
    "sns.heatmap(corr)"
   ]
  },
  {
   "cell_type": "code",
   "execution_count": 51,
   "metadata": {
    "colab": {
     "base_uri": "https://localhost:8080/"
    },
    "id": "EEm7sQPkPjBi",
    "outputId": "88810eba-c462-4f62-e68f-04ffd779baf0"
   },
   "outputs": [
    {
     "name": "stdout",
     "output_type": "stream",
     "text": [
      "Amount             1.000000\n",
      "Condition          0.362180\n",
      "Min_coverage      -0.020802\n",
      "Cost_of_vehicle   -0.020802\n",
      "Max_coverage      -0.330780\n",
      "Name: Amount, dtype: float64\n"
     ]
    }
   ],
   "source": [
    "print (corr['Amount'].sort_values(ascending=False))\n"
   ]
  },
  {
   "cell_type": "code",
   "execution_count": 52,
   "metadata": {
    "id": "TU2GxenMQCxR"
   },
   "outputs": [],
   "source": [
    "# Except Condition rest of features have less % of correaltion with Target Variable"
   ]
  },
  {
   "cell_type": "code",
   "execution_count": 53,
   "metadata": {},
   "outputs": [],
   "source": [
    "# Using Date Column create new features "
   ]
  },
  {
   "cell_type": "code",
   "execution_count": 14,
   "metadata": {},
   "outputs": [],
   "source": [
    "from datetime import datetime\n"
   ]
  },
  {
   "cell_type": "code",
   "execution_count": 15,
   "metadata": {},
   "outputs": [],
   "source": [
    "\n",
    "df['Expiry_date'] = pd.to_datetime(df['Expiry_date'])\n",
    "test2['Expiry_date'] = pd.to_datetime(df['Expiry_date'])"
   ]
  },
  {
   "cell_type": "code",
   "execution_count": 16,
   "metadata": {},
   "outputs": [
    {
     "data": {
      "text/html": [
       "<div>\n",
       "<style scoped>\n",
       "    .dataframe tbody tr th:only-of-type {\n",
       "        vertical-align: middle;\n",
       "    }\n",
       "\n",
       "    .dataframe tbody tr th {\n",
       "        vertical-align: top;\n",
       "    }\n",
       "\n",
       "    .dataframe thead th {\n",
       "        text-align: right;\n",
       "    }\n",
       "</style>\n",
       "<table border=\"1\" class=\"dataframe\">\n",
       "  <thead>\n",
       "    <tr style=\"text-align: right;\">\n",
       "      <th></th>\n",
       "      <th>Image_path</th>\n",
       "      <th>Insurance_company</th>\n",
       "      <th>Cost_of_vehicle</th>\n",
       "      <th>Min_coverage</th>\n",
       "      <th>Expiry_date</th>\n",
       "      <th>Max_coverage</th>\n",
       "      <th>Condition</th>\n",
       "      <th>Amount</th>\n",
       "    </tr>\n",
       "  </thead>\n",
       "  <tbody>\n",
       "    <tr>\n",
       "      <th>0</th>\n",
       "      <td>img_4513976.jpg</td>\n",
       "      <td>BQ</td>\n",
       "      <td>41500.0</td>\n",
       "      <td>1037.5</td>\n",
       "      <td>2026-12-03</td>\n",
       "      <td>36142.68</td>\n",
       "      <td>0</td>\n",
       "      <td>0.0</td>\n",
       "    </tr>\n",
       "    <tr>\n",
       "      <th>1</th>\n",
       "      <td>img_7764995.jpg</td>\n",
       "      <td>BQ</td>\n",
       "      <td>50700.0</td>\n",
       "      <td>1267.5</td>\n",
       "      <td>2025-07-10</td>\n",
       "      <td>12753.00</td>\n",
       "      <td>1</td>\n",
       "      <td>6194.0</td>\n",
       "    </tr>\n",
       "    <tr>\n",
       "      <th>2</th>\n",
       "      <td>img_451308.jpg</td>\n",
       "      <td>A</td>\n",
       "      <td>49500.0</td>\n",
       "      <td>1237.5</td>\n",
       "      <td>2022-08-11</td>\n",
       "      <td>43102.68</td>\n",
       "      <td>0</td>\n",
       "      <td>0.0</td>\n",
       "    </tr>\n",
       "    <tr>\n",
       "      <th>3</th>\n",
       "      <td>img_7768372.jpg</td>\n",
       "      <td>A</td>\n",
       "      <td>33500.0</td>\n",
       "      <td>837.5</td>\n",
       "      <td>2022-08-02</td>\n",
       "      <td>8453.00</td>\n",
       "      <td>1</td>\n",
       "      <td>7699.0</td>\n",
       "    </tr>\n",
       "    <tr>\n",
       "      <th>4</th>\n",
       "      <td>img_7765274.jpg</td>\n",
       "      <td>AC</td>\n",
       "      <td>27600.0</td>\n",
       "      <td>690.0</td>\n",
       "      <td>2026-05-01</td>\n",
       "      <td>6978.00</td>\n",
       "      <td>1</td>\n",
       "      <td>8849.0</td>\n",
       "    </tr>\n",
       "  </tbody>\n",
       "</table>\n",
       "</div>"
      ],
      "text/plain": [
       "        Image_path Insurance_company  Cost_of_vehicle  Min_coverage  \\\n",
       "0  img_4513976.jpg                BQ          41500.0        1037.5   \n",
       "1  img_7764995.jpg                BQ          50700.0        1267.5   \n",
       "2   img_451308.jpg                 A          49500.0        1237.5   \n",
       "3  img_7768372.jpg                 A          33500.0         837.5   \n",
       "4  img_7765274.jpg                AC          27600.0         690.0   \n",
       "\n",
       "  Expiry_date  Max_coverage  Condition  Amount  \n",
       "0  2026-12-03      36142.68          0     0.0  \n",
       "1  2025-07-10      12753.00          1  6194.0  \n",
       "2  2022-08-11      43102.68          0     0.0  \n",
       "3  2022-08-02       8453.00          1  7699.0  \n",
       "4  2026-05-01       6978.00          1  8849.0  "
      ]
     },
     "execution_count": 16,
     "metadata": {},
     "output_type": "execute_result"
    }
   ],
   "source": [
    "df.head()"
   ]
  },
  {
   "cell_type": "code",
   "execution_count": 17,
   "metadata": {},
   "outputs": [
    {
     "name": "stderr",
     "output_type": "stream",
     "text": [
      "<ipython-input-17-a3a2fddce3ef>:2: FutureWarning: The pandas.datetime class is deprecated and will be removed from pandas in a future version. Import from datetime module instead.\n",
      "  df[\"Expiry_years\"] = df[\"Expiry_date\"].apply(lambda x : (x.year-pd.datetime.now().year ))\n",
      "<ipython-input-17-a3a2fddce3ef>:3: FutureWarning: The pandas.datetime class is deprecated and will be removed from pandas in a future version. Import from datetime module instead.\n",
      "  test2[\"Expiry_years\"] = test2[\"Expiry_date\"].apply(lambda x : (x.year-pd.datetime.now().year ))\n"
     ]
    }
   ],
   "source": [
    "now = datetime.now()\n",
    "df[\"Expiry_years\"] = df[\"Expiry_date\"].apply(lambda x : (x.year-pd.datetime.now().year ))\n",
    "test2[\"Expiry_years\"] = test2[\"Expiry_date\"].apply(lambda x : (x.year-pd.datetime.now().year ))"
   ]
  },
  {
   "cell_type": "code",
   "execution_count": 18,
   "metadata": {},
   "outputs": [
    {
     "data": {
      "text/html": [
       "<div>\n",
       "<style scoped>\n",
       "    .dataframe tbody tr th:only-of-type {\n",
       "        vertical-align: middle;\n",
       "    }\n",
       "\n",
       "    .dataframe tbody tr th {\n",
       "        vertical-align: top;\n",
       "    }\n",
       "\n",
       "    .dataframe thead th {\n",
       "        text-align: right;\n",
       "    }\n",
       "</style>\n",
       "<table border=\"1\" class=\"dataframe\">\n",
       "  <thead>\n",
       "    <tr style=\"text-align: right;\">\n",
       "      <th></th>\n",
       "      <th>Image_path</th>\n",
       "      <th>Insurance_company</th>\n",
       "      <th>Cost_of_vehicle</th>\n",
       "      <th>Min_coverage</th>\n",
       "      <th>Expiry_date</th>\n",
       "      <th>Max_coverage</th>\n",
       "      <th>Condition</th>\n",
       "      <th>Amount</th>\n",
       "      <th>Expiry_years</th>\n",
       "    </tr>\n",
       "  </thead>\n",
       "  <tbody>\n",
       "    <tr>\n",
       "      <th>0</th>\n",
       "      <td>img_4513976.jpg</td>\n",
       "      <td>BQ</td>\n",
       "      <td>41500.0</td>\n",
       "      <td>1037.5</td>\n",
       "      <td>2026-12-03</td>\n",
       "      <td>36142.68</td>\n",
       "      <td>0</td>\n",
       "      <td>0.0</td>\n",
       "      <td>5</td>\n",
       "    </tr>\n",
       "    <tr>\n",
       "      <th>1</th>\n",
       "      <td>img_7764995.jpg</td>\n",
       "      <td>BQ</td>\n",
       "      <td>50700.0</td>\n",
       "      <td>1267.5</td>\n",
       "      <td>2025-07-10</td>\n",
       "      <td>12753.00</td>\n",
       "      <td>1</td>\n",
       "      <td>6194.0</td>\n",
       "      <td>4</td>\n",
       "    </tr>\n",
       "    <tr>\n",
       "      <th>2</th>\n",
       "      <td>img_451308.jpg</td>\n",
       "      <td>A</td>\n",
       "      <td>49500.0</td>\n",
       "      <td>1237.5</td>\n",
       "      <td>2022-08-11</td>\n",
       "      <td>43102.68</td>\n",
       "      <td>0</td>\n",
       "      <td>0.0</td>\n",
       "      <td>1</td>\n",
       "    </tr>\n",
       "    <tr>\n",
       "      <th>3</th>\n",
       "      <td>img_7768372.jpg</td>\n",
       "      <td>A</td>\n",
       "      <td>33500.0</td>\n",
       "      <td>837.5</td>\n",
       "      <td>2022-08-02</td>\n",
       "      <td>8453.00</td>\n",
       "      <td>1</td>\n",
       "      <td>7699.0</td>\n",
       "      <td>1</td>\n",
       "    </tr>\n",
       "    <tr>\n",
       "      <th>4</th>\n",
       "      <td>img_7765274.jpg</td>\n",
       "      <td>AC</td>\n",
       "      <td>27600.0</td>\n",
       "      <td>690.0</td>\n",
       "      <td>2026-05-01</td>\n",
       "      <td>6978.00</td>\n",
       "      <td>1</td>\n",
       "      <td>8849.0</td>\n",
       "      <td>5</td>\n",
       "    </tr>\n",
       "  </tbody>\n",
       "</table>\n",
       "</div>"
      ],
      "text/plain": [
       "        Image_path Insurance_company  Cost_of_vehicle  Min_coverage  \\\n",
       "0  img_4513976.jpg                BQ          41500.0        1037.5   \n",
       "1  img_7764995.jpg                BQ          50700.0        1267.5   \n",
       "2   img_451308.jpg                 A          49500.0        1237.5   \n",
       "3  img_7768372.jpg                 A          33500.0         837.5   \n",
       "4  img_7765274.jpg                AC          27600.0         690.0   \n",
       "\n",
       "  Expiry_date  Max_coverage  Condition  Amount  Expiry_years  \n",
       "0  2026-12-03      36142.68          0     0.0             5  \n",
       "1  2025-07-10      12753.00          1  6194.0             4  \n",
       "2  2022-08-11      43102.68          0     0.0             1  \n",
       "3  2022-08-02       8453.00          1  7699.0             1  \n",
       "4  2026-05-01       6978.00          1  8849.0             5  "
      ]
     },
     "execution_count": 18,
     "metadata": {},
     "output_type": "execute_result"
    }
   ],
   "source": [
    "df.head()"
   ]
  },
  {
   "cell_type": "code",
   "execution_count": 19,
   "metadata": {},
   "outputs": [
    {
     "data": {
      "text/plain": [
       "<AxesSubplot:>"
      ]
     },
     "execution_count": 19,
     "metadata": {},
     "output_type": "execute_result"
    },
    {
     "data": {
      "image/png": "[encoded data removed]",
      "text/plain": [
       "<Figure size 432x288 with 2 Axes>"
      ]
     },
     "metadata": {
      "needs_background": "light"
     },
     "output_type": "display_data"
    }
   ],
   "source": [
    "corr = numeric_data.corr()\n",
    "sns.heatmap(corr)"
   ]
  },
  {
   "cell_type": "code",
   "execution_count": 20,
   "metadata": {},
   "outputs": [
    {
     "name": "stdout",
     "output_type": "stream",
     "text": [
      "Amount             1.000000\n",
      "Condition          0.362180\n",
      "Min_coverage      -0.020802\n",
      "Cost_of_vehicle   -0.020802\n",
      "Max_coverage      -0.330780\n",
      "Name: Amount, dtype: float64\n"
     ]
    }
   ],
   "source": [
    "print (corr['Amount'].sort_values(ascending=False))"
   ]
  },
  {
   "cell_type": "code",
   "execution_count": 21,
   "metadata": {},
   "outputs": [
    {
     "data": {
      "text/plain": [
       "<AxesSubplot:xlabel='Expiry_years', ylabel='Amount'>"
      ]
     },
     "execution_count": 21,
     "metadata": {},
     "output_type": "execute_result"
    },
    {
     "data": {
      "image/png": "[encoded data removed]",
      "text/plain": [
       "<Figure size 432x288 with 1 Axes>"
      ]
     },
     "metadata": {
      "needs_background": "light"
     },
     "output_type": "display_data"
    }
   ],
   "source": [
    "sns.scatterplot(x =df['Expiry_years'],y = df['Amount'])"
   ]
  },
  {
   "cell_type": "code",
   "execution_count": 22,
   "metadata": {},
   "outputs": [
    {
     "data": {
      "text/plain": [
       "<AxesSubplot:xlabel='Expiry_years', ylabel='Max_coverage'>"
      ]
     },
     "execution_count": 22,
     "metadata": {},
     "output_type": "execute_result"
    },
    {
     "data": {
      "image/png": "[encoded data removed]",
      "text/plain": [
       "<Figure size 432x288 with 1 Axes>"
      ]
     },
     "metadata": {
      "needs_background": "light"
     },
     "output_type": "display_data"
    }
   ],
   "source": [
    "sns.scatterplot(x =df['Expiry_years'],y = df['Max_coverage'])"
   ]
  },
  {
   "cell_type": "code",
   "execution_count": 23,
   "metadata": {},
   "outputs": [
    {
     "data": {
      "text/plain": [
       "<AxesSubplot:xlabel='Expiry_years', ylabel='Min_coverage'>"
      ]
     },
     "execution_count": 23,
     "metadata": {},
     "output_type": "execute_result"
    },
    {
     "data": {
      "image/png": "[encoded data removed]",
      "text/plain": [
       "<Figure size 432x288 with 1 Axes>"
      ]
     },
     "metadata": {
      "needs_background": "light"
     },
     "output_type": "display_data"
    }
   ],
   "source": [
    "sns.scatterplot(x =df['Expiry_years'],y = df['Min_coverage'])"
   ]
  },
  {
   "cell_type": "code",
   "execution_count": 24,
   "metadata": {},
   "outputs": [
    {
     "data": {
      "text/plain": [
       "<AxesSubplot:xlabel='Cost_of_vehicle', ylabel='Max_coverage'>"
      ]
     },
     "execution_count": 24,
     "metadata": {},
     "output_type": "execute_result"
    },
    {
     "data": {
      "image/png": "[encoded data removed]",
      "text/plain": [
       "<Figure size 432x288 with 1 Axes>"
      ]
     },
     "metadata": {
      "needs_background": "light"
     },
     "output_type": "display_data"
    }
   ],
   "source": [
    "sns.scatterplot(x =df['Cost_of_vehicle'],y = df['Max_coverage'])"
   ]
  },
  {
   "cell_type": "code",
   "execution_count": 25,
   "metadata": {},
   "outputs": [
    {
     "name": "stderr",
     "output_type": "stream",
     "text": [
      "C:\\Anaconda3\\lib\\site-packages\\seaborn\\categorical.py:1296: UserWarning: 19.4% of the points cannot be placed; you may want to decrease the size of the markers or use stripplot.\n",
      "  warnings.warn(msg, UserWarning)\n",
      "C:\\Anaconda3\\lib\\site-packages\\seaborn\\categorical.py:1296: UserWarning: 69.5% of the points cannot be placed; you may want to decrease the size of the markers or use stripplot.\n",
      "  warnings.warn(msg, UserWarning)\n",
      "C:\\Anaconda3\\lib\\site-packages\\seaborn\\categorical.py:1296: UserWarning: 69.4% of the points cannot be placed; you may want to decrease the size of the markers or use stripplot.\n",
      "  warnings.warn(msg, UserWarning)\n",
      "C:\\Anaconda3\\lib\\site-packages\\seaborn\\categorical.py:1296: UserWarning: 69.7% of the points cannot be placed; you may want to decrease the size of the markers or use stripplot.\n",
      "  warnings.warn(msg, UserWarning)\n",
      "C:\\Anaconda3\\lib\\site-packages\\seaborn\\categorical.py:1296: UserWarning: 71.8% of the points cannot be placed; you may want to decrease the size of the markers or use stripplot.\n",
      "  warnings.warn(msg, UserWarning)\n",
      "C:\\Anaconda3\\lib\\site-packages\\seaborn\\categorical.py:1296: UserWarning: 68.2% of the points cannot be placed; you may want to decrease the size of the markers or use stripplot.\n",
      "  warnings.warn(msg, UserWarning)\n",
      "C:\\Anaconda3\\lib\\site-packages\\seaborn\\categorical.py:1296: UserWarning: 73.2% of the points cannot be placed; you may want to decrease the size of the markers or use stripplot.\n",
      "  warnings.warn(msg, UserWarning)\n"
     ]
    },
    {
     "data": {
      "text/plain": [
       "<seaborn.axisgrid.FacetGrid at 0x216cda180d0>"
      ]
     },
     "execution_count": 25,
     "metadata": {},
     "output_type": "execute_result"
    },
    {
     "data": {
      "image/png": "[encoded data removed]",
      "text/plain": [
       "<Figure size 467.875x360 with 1 Axes>"
      ]
     },
     "metadata": {
      "needs_background": "light"
     },
     "output_type": "display_data"
    }
   ],
   "source": [
    "sns.catplot(x=\"Expiry_years\", y=\"Amount\", hue=\"Insurance_company\", kind=\"swarm\", data=df)"
   ]
  },
  {
   "cell_type": "code",
   "execution_count": 26,
   "metadata": {},
   "outputs": [],
   "source": [
    "# Here no pattern we are not find"
   ]
  },
  {
   "cell_type": "code",
   "execution_count": 27,
   "metadata": {},
   "outputs": [],
   "source": [
    "# Removing outliers from the  data\n"
   ]
  },
  {
   "cell_type": "code",
   "execution_count": 28,
   "metadata": {},
   "outputs": [
    {
     "name": "stdout",
     "output_type": "stream",
     "text": [
      "Cost_of_vehicle    15375.000\n",
      "Min_coverage         384.375\n",
      "Max_coverage        4100.000\n",
      "Condition              0.000\n",
      "Amount              4397.750\n",
      "Expiry_years           4.000\n",
      "dtype: float64\n"
     ]
    }
   ],
   "source": [
    "Q1 = df.quantile(0.25)\n",
    "Q3 = df.quantile(0.75)\n",
    "IQR = Q3 - Q1\n",
    "print(IQR)\n"
   ]
  },
  {
   "cell_type": "code",
   "execution_count": 29,
   "metadata": {},
   "outputs": [
    {
     "data": {
      "text/plain": [
       "(1399, 9)"
      ]
     },
     "execution_count": 29,
     "metadata": {},
     "output_type": "execute_result"
    }
   ],
   "source": [
    "df.shape"
   ]
  },
  {
   "cell_type": "code",
   "execution_count": 30,
   "metadata": {},
   "outputs": [
    {
     "name": "stdout",
     "output_type": "stream",
     "text": [
      "(array([  39,  176,  195,  278,  304,  405,  418,  542,  550,  575,  620,\n",
      "        764,  786,  884,  954,  955, 1082, 1168, 1173, 1227, 1324],\n",
      "      dtype=int64),)\n"
     ]
    }
   ],
   "source": [
    "# Position of the Outlier\n",
    "print(np.where(df['Amount']>10000))"
   ]
  },
  {
   "cell_type": "code",
   "execution_count": 38,
   "metadata": {},
   "outputs": [
    {
     "data": {
      "text/plain": [
       "(1367, 9)"
      ]
     },
     "execution_count": 38,
     "metadata": {},
     "output_type": "execute_result"
    }
   ],
   "source": [
    "new_df = df[(df['Amount'] <10000)]\n",
    "new_df.shape"
   ]
  },
  {
   "cell_type": "code",
   "execution_count": 39,
   "metadata": {},
   "outputs": [],
   "source": [
    "#Detecting Multicollinearity between independent variables (VIF) \n",
    "\n",
    "from statsmodels.stats.outliers_influence import variance_inflation_factor\n",
    "\n",
    "def calc_vif(X):\n",
    "\n",
    "    # Calculating VIF\n",
    "    vif = pd.DataFrame()\n",
    "    vif[\"variables\"] = X.columns\n",
    "    vif[\"VIF\"] = [variance_inflation_factor(X.values, i) for i in range(X.shape[1])]\n",
    "\n",
    "    return(vif)"
   ]
  },
  {
   "cell_type": "code",
   "execution_count": 40,
   "metadata": {},
   "outputs": [
    {
     "name": "stderr",
     "output_type": "stream",
     "text": [
      "C:\\Anaconda3\\lib\\site-packages\\statsmodels\\stats\\outliers_influence.py:193: RuntimeWarning: divide by zero encountered in double_scalars\n",
      "  vif = 1. / (1. - r_squared_i)\n"
     ]
    },
    {
     "data": {
      "text/html": [
       "<div>\n",
       "<style scoped>\n",
       "    .dataframe tbody tr th:only-of-type {\n",
       "        vertical-align: middle;\n",
       "    }\n",
       "\n",
       "    .dataframe tbody tr th {\n",
       "        vertical-align: top;\n",
       "    }\n",
       "\n",
       "    .dataframe thead th {\n",
       "        text-align: right;\n",
       "    }\n",
       "</style>\n",
       "<table border=\"1\" class=\"dataframe\">\n",
       "  <thead>\n",
       "    <tr style=\"text-align: right;\">\n",
       "      <th></th>\n",
       "      <th>variables</th>\n",
       "      <th>VIF</th>\n",
       "    </tr>\n",
       "  </thead>\n",
       "  <tbody>\n",
       "    <tr>\n",
       "      <th>0</th>\n",
       "      <td>Cost_of_vehicle</td>\n",
       "      <td>inf</td>\n",
       "    </tr>\n",
       "    <tr>\n",
       "      <th>1</th>\n",
       "      <td>Min_coverage</td>\n",
       "      <td>inf</td>\n",
       "    </tr>\n",
       "    <tr>\n",
       "      <th>2</th>\n",
       "      <td>Max_coverage</td>\n",
       "      <td>2562.945651</td>\n",
       "    </tr>\n",
       "    <tr>\n",
       "      <th>3</th>\n",
       "      <td>Condition</td>\n",
       "      <td>1812.818973</td>\n",
       "    </tr>\n",
       "    <tr>\n",
       "      <th>4</th>\n",
       "      <td>Amount</td>\n",
       "      <td>1.813537</td>\n",
       "    </tr>\n",
       "  </tbody>\n",
       "</table>\n",
       "</div>"
      ],
      "text/plain": [
       "         variables          VIF\n",
       "0  Cost_of_vehicle          inf\n",
       "1     Min_coverage          inf\n",
       "2     Max_coverage  2562.945651\n",
       "3        Condition  1812.818973\n",
       "4           Amount     1.813537"
      ]
     },
     "execution_count": 40,
     "metadata": {},
     "output_type": "execute_result"
    }
   ],
   "source": [
    "X = corr\n",
    "calc_vif(X)"
   ]
  },
  {
   "cell_type": "code",
   "execution_count": 41,
   "metadata": {},
   "outputs": [
    {
     "name": "stderr",
     "output_type": "stream",
     "text": [
      "C:\\Anaconda3\\lib\\site-packages\\statsmodels\\stats\\outliers_influence.py:193: RuntimeWarning: divide by zero encountered in double_scalars\n",
      "  vif = 1. / (1. - r_squared_i)\n"
     ]
    },
    {
     "data": {
      "text/html": [
       "<div>\n",
       "<style scoped>\n",
       "    .dataframe tbody tr th:only-of-type {\n",
       "        vertical-align: middle;\n",
       "    }\n",
       "\n",
       "    .dataframe tbody tr th {\n",
       "        vertical-align: top;\n",
       "    }\n",
       "\n",
       "    .dataframe thead th {\n",
       "        text-align: right;\n",
       "    }\n",
       "</style>\n",
       "<table border=\"1\" class=\"dataframe\">\n",
       "  <thead>\n",
       "    <tr style=\"text-align: right;\">\n",
       "      <th></th>\n",
       "      <th>variables</th>\n",
       "      <th>VIF</th>\n",
       "    </tr>\n",
       "  </thead>\n",
       "  <tbody>\n",
       "    <tr>\n",
       "      <th>0</th>\n",
       "      <td>Cost_of_vehicle</td>\n",
       "      <td>inf</td>\n",
       "    </tr>\n",
       "    <tr>\n",
       "      <th>1</th>\n",
       "      <td>Min_coverage</td>\n",
       "      <td>inf</td>\n",
       "    </tr>\n",
       "    <tr>\n",
       "      <th>2</th>\n",
       "      <td>Condition</td>\n",
       "      <td>1.878202</td>\n",
       "    </tr>\n",
       "    <tr>\n",
       "      <th>3</th>\n",
       "      <td>Amount</td>\n",
       "      <td>1.770504</td>\n",
       "    </tr>\n",
       "  </tbody>\n",
       "</table>\n",
       "</div>"
      ],
      "text/plain": [
       "         variables       VIF\n",
       "0  Cost_of_vehicle       inf\n",
       "1     Min_coverage       inf\n",
       "2        Condition  1.878202\n",
       "3           Amount  1.770504"
      ]
     },
     "execution_count": 41,
     "metadata": {},
     "output_type": "execute_result"
    }
   ],
   "source": [
    "X = corr.drop(['Max_coverage'],axis=1)\n",
    "calc_vif(X)"
   ]
  },
  {
   "cell_type": "code",
   "execution_count": 42,
   "metadata": {},
   "outputs": [
    {
     "ename": "NameError",
     "evalue": "name 'df1' is not defined",
     "output_type": "error",
     "traceback": [
      "\u001b[1;31m---------------------------------------------------------------------------\u001b[0m",
      "\u001b[1;31mNameError\u001b[0m                                 Traceback (most recent call last)",
      "\u001b[1;32m<ipython-input-42-1256dce57df0>\u001b[0m in \u001b[0;36m<module>\u001b[1;34m\u001b[0m\n\u001b[0;32m      1\u001b[0m \u001b[1;31m#Missing values Imputation\u001b[0m\u001b[1;33m\u001b[0m\u001b[1;33m\u001b[0m\u001b[1;33m\u001b[0m\u001b[0m\n\u001b[0;32m      2\u001b[0m \u001b[1;33m\u001b[0m\u001b[0m\n\u001b[1;32m----> 3\u001b[1;33m \u001b[0mdf1\u001b[0m\u001b[1;33m.\u001b[0m\u001b[0misnull\u001b[0m\u001b[1;33m(\u001b[0m\u001b[1;33m)\u001b[0m\u001b[1;33m.\u001b[0m\u001b[0msum\u001b[0m\u001b[1;33m(\u001b[0m\u001b[1;33m)\u001b[0m\u001b[1;33m\u001b[0m\u001b[1;33m\u001b[0m\u001b[0m\n\u001b[0m",
      "\u001b[1;31mNameError\u001b[0m: name 'df1' is not defined"
     ]
    }
   ],
   "source": [
    "#Missing values Imputation\n",
    "\n",
    "df1.isnull().sum()"
   ]
  },
  {
   "cell_type": "code",
   "execution_count": 43,
   "metadata": {
    "id": "JgK2YuH2g44t"
   },
   "outputs": [],
   "source": [
    "train = df.copy()"
   ]
  },
  {
   "cell_type": "code",
   "execution_count": 44,
   "metadata": {},
   "outputs": [],
   "source": [
    "df.fillna(train['Cost_of_vehicle'].mean(), inplace = True)\n",
    "df.fillna(train['Amount'].mean(), inplace = True)\n",
    "df.fillna(train['Min_coverage'].mean(), inplace = True)\n",
    "df.fillna(train['Max_coverage'].mean(), inplace = True)"
   ]
  },
  {
   "cell_type": "code",
   "execution_count": 45,
   "metadata": {
    "id": "Wsx2M2bUUzX8"
   },
   "outputs": [],
   "source": [
    "train.fillna(train['Cost_of_vehicle'].mean(), inplace = True)\n",
    "train.fillna(train['Amount'].mean(), inplace = True)\n",
    "train.fillna(train['Min_coverage'].mean(), inplace = True)\n",
    "train.fillna(train['Max_coverage'].mean(), inplace = True)"
   ]
  },
  {
   "cell_type": "code",
   "execution_count": 47,
   "metadata": {
    "id": "gu_P-DJsg8G_"
   },
   "outputs": [],
   "source": [
    "\n",
    "train_copy = train[['Insurance_company','Cost_of_vehicle','Min_coverage','Condition','Expiry_years','Amount']]\n",
    "\n",
    "test_copy = test2[['Insurance_company','Cost_of_vehicle','Min_coverage','Condition','Expiry_years']]"
   ]
  },
  {
   "cell_type": "code",
   "execution_count": 48,
   "metadata": {
    "id": "zsIUZshMg8Jk"
   },
   "outputs": [],
   "source": [
    "train_copy = pd.get_dummies(train_copy)\n",
    "test_copy = pd.get_dummies(test_copy)"
   ]
  },
  {
   "cell_type": "code",
   "execution_count": 49,
   "metadata": {
    "id": "S2GRwU5xg8Mz"
   },
   "outputs": [],
   "source": [
    "from sklearn.model_selection import train_test_split\n",
    "y = train_copy['Amount']\n",
    "X = train_copy.drop(['Amount'],axis =1)\n",
    "\n",
    "X_train, X_test, y_train, y_test = train_test_split(X, y, test_size=0.3, random_state=42)"
   ]
  },
  {
   "cell_type": "code",
   "execution_count": 51,
   "metadata": {
    "id": "_vS_S1-Pg8Sp"
   },
   "outputs": [],
   "source": [
    "import xgboost as xgb\n",
    "from xgboost import XGBRegressor\n",
    "from xgboost import XGBRFRegressor\n",
    "from sklearn.model_selection import GridSearchCV\n",
    "\n",
    "from sklearn.metrics import r2_score"
   ]
  },
  {
   "cell_type": "code",
   "execution_count": 141,
   "metadata": {},
   "outputs": [],
   "source": [
    "#XGBoost hyper-parameter tuning\n",
    "def hyperParameterTuning(X_train, y_train):\n",
    "    param_tuning = {\n",
    "        'learning_rate': [0.01, 0.1],\n",
    "        'max_depth': [3, 5, 7, 9],\n",
    "        'min_child_weight': [1, 3, 5],\n",
    "        'subsample': [0.5, 0.7],\n",
    "        'colsample_bytree': [0.5, 0.7],\n",
    "        'n_estimators' : [100, 200, 500],\n",
    "        'objective': ['reg:squarederror']\n",
    "    }\n",
    "\n",
    "    xgb_model = XGBRegressor()\n",
    "\n",
    "    gsearch = GridSearchCV(estimator = xgb_model,\n",
    "                           param_grid = param_tuning,                        \n",
    "                           #scoring = 'neg_mean_absolute_error', #MAE\n",
    "                           #scoring = 'neg_mean_squared_error',  #MSE\n",
    "                           cv = 5,\n",
    "                           n_jobs = -1,\n",
    "                           verbose = 1)\n",
    "\n",
    "    gsearch.fit(X_train,y_train)\n",
    "\n",
    "    return gsearch.best_params_"
   ]
  },
  {
   "cell_type": "code",
   "execution_count": 142,
   "metadata": {},
   "outputs": [
    {
     "name": "stdout",
     "output_type": "stream",
     "text": [
      "Fitting 5 folds for each of 288 candidates, totalling 1440 fits\n"
     ]
    },
    {
     "data": {
      "text/plain": [
       "{'colsample_bytree': 0.7,\n",
       " 'learning_rate': 0.01,\n",
       " 'max_depth': 3,\n",
       " 'min_child_weight': 3,\n",
       " 'n_estimators': 500,\n",
       " 'objective': 'reg:squarederror',\n",
       " 'subsample': 0.7}"
      ]
     },
     "execution_count": 142,
     "metadata": {},
     "output_type": "execute_result"
    }
   ],
   "source": [
    "hyperParameterTuning(X_train, y_train)"
   ]
  },
  {
   "cell_type": "code",
   "execution_count": 52,
   "metadata": {},
   "outputs": [
    {
     "name": "stdout",
     "output_type": "stream",
     "text": [
      "Wall time: 550 ms\n",
      "r2_score:  0.05933647319935642\n"
     ]
    }
   ],
   "source": [
    "from sklearn.metrics import mean_squared_error\n",
    "from sklearn.metrics import mean_absolute_error\n",
    "xgb_model = XGBRegressor(\n",
    "        objective = 'reg:squarederror',\n",
    "        colsample_bytree = 0.7,\n",
    "        learning_rate = 0.01,\n",
    "        max_depth = 3,\n",
    "        min_child_weight = 3,\n",
    "        n_estimators = 500,\n",
    "        subsample = 0.7)\n",
    "\n",
    "%time xgb_model.fit(X_train, y_train, verbose=False)\n",
    "\n",
    "y_pred_xgb = xgb_model.predict(X_test)\n",
    "\n",
    "mae_xgb = r2_score(y_test, y_pred_xgb)\n",
    "\n",
    "print(\"r2_score: \", mae_xgb)"
   ]
  },
  {
   "cell_type": "code",
   "execution_count": 149,
   "metadata": {
    "id": "YS6JwIVRhkiU"
   },
   "outputs": [],
   "source": [
    "y_pred_test = xgb_model.predict(test_copy)"
   ]
  },
  {
   "cell_type": "code",
   "execution_count": 150,
   "metadata": {
    "id": "JfP28jYthoDe"
   },
   "outputs": [],
   "source": [
    "\n",
    "test_df['Amount'] =  y_pred_test "
   ]
  },
  {
   "cell_type": "code",
   "execution_count": 152,
   "metadata": {},
   "outputs": [
    {
     "data": {
      "text/html": [
       "<div>\n",
       "<style scoped>\n",
       "    .dataframe tbody tr th:only-of-type {\n",
       "        vertical-align: middle;\n",
       "    }\n",
       "\n",
       "    .dataframe tbody tr th {\n",
       "        vertical-align: top;\n",
       "    }\n",
       "\n",
       "    .dataframe thead th {\n",
       "        text-align: right;\n",
       "    }\n",
       "</style>\n",
       "<table border=\"1\" class=\"dataframe\">\n",
       "  <thead>\n",
       "    <tr style=\"text-align: right;\">\n",
       "      <th></th>\n",
       "      <th>Image_path</th>\n",
       "      <th>Insurance_company</th>\n",
       "      <th>Cost_of_vehicle</th>\n",
       "      <th>Min_coverage</th>\n",
       "      <th>Expiry_date</th>\n",
       "      <th>Max_coverage</th>\n",
       "      <th>Condition</th>\n",
       "      <th>Amount</th>\n",
       "    </tr>\n",
       "  </thead>\n",
       "  <tbody>\n",
       "    <tr>\n",
       "      <th>0</th>\n",
       "      <td>img_4538519.jpg</td>\n",
       "      <td>B</td>\n",
       "      <td>23600</td>\n",
       "      <td>590.0</td>\n",
       "      <td>12-04-2025</td>\n",
       "      <td>5978.0</td>\n",
       "      <td>1</td>\n",
       "      <td>388.195984</td>\n",
       "    </tr>\n",
       "    <tr>\n",
       "      <th>1</th>\n",
       "      <td>img_7766002.jpg</td>\n",
       "      <td>C</td>\n",
       "      <td>28300</td>\n",
       "      <td>707.5</td>\n",
       "      <td>24-08-2028</td>\n",
       "      <td>7153.0</td>\n",
       "      <td>1</td>\n",
       "      <td>291.956116</td>\n",
       "    </tr>\n",
       "    <tr>\n",
       "      <th>2</th>\n",
       "      <td>img_4637390.jpg</td>\n",
       "      <td>AC</td>\n",
       "      <td>43700</td>\n",
       "      <td>1092.5</td>\n",
       "      <td>28-11-2023</td>\n",
       "      <td>11003.0</td>\n",
       "      <td>1</td>\n",
       "      <td>288.762878</td>\n",
       "    </tr>\n",
       "    <tr>\n",
       "      <th>3</th>\n",
       "      <td>img_4516108.jpg</td>\n",
       "      <td>BB</td>\n",
       "      <td>46100</td>\n",
       "      <td>1152.5</td>\n",
       "      <td>04-02-2028</td>\n",
       "      <td>11603.0</td>\n",
       "      <td>1</td>\n",
       "      <td>2761.626221</td>\n",
       "    </tr>\n",
       "    <tr>\n",
       "      <th>4</th>\n",
       "      <td>img_4517008.jpg</td>\n",
       "      <td>BB</td>\n",
       "      <td>40700</td>\n",
       "      <td>1017.5</td>\n",
       "      <td>03-01-2022</td>\n",
       "      <td>10253.0</td>\n",
       "      <td>1</td>\n",
       "      <td>3565.558105</td>\n",
       "    </tr>\n",
       "  </tbody>\n",
       "</table>\n",
       "</div>"
      ],
      "text/plain": [
       "        Image_path Insurance_company  Cost_of_vehicle  Min_coverage  \\\n",
       "0  img_4538519.jpg                 B            23600         590.0   \n",
       "1  img_7766002.jpg                 C            28300         707.5   \n",
       "2  img_4637390.jpg                AC            43700        1092.5   \n",
       "3  img_4516108.jpg                BB            46100        1152.5   \n",
       "4  img_4517008.jpg                BB            40700        1017.5   \n",
       "\n",
       "  Expiry_date  Max_coverage  Condition       Amount  \n",
       "0  12-04-2025        5978.0          1   388.195984  \n",
       "1  24-08-2028        7153.0          1   291.956116  \n",
       "2  28-11-2023       11003.0          1   288.762878  \n",
       "3  04-02-2028       11603.0          1  2761.626221  \n",
       "4  03-01-2022       10253.0          1  3565.558105  "
      ]
     },
     "execution_count": 152,
     "metadata": {},
     "output_type": "execute_result"
    }
   ],
   "source": [
    "test_df.head()"
   ]
  },
  {
   "cell_type": "code",
   "execution_count": 154,
   "metadata": {},
   "outputs": [],
   "source": [
    "sub = test_df[['Image_path','Condition','Amount']]\n"
   ]
  },
  {
   "cell_type": "code",
   "execution_count": 155,
   "metadata": {
    "id": "wyiLF1Jwhs7W"
   },
   "outputs": [],
   "source": [
    "sub.to_csv(r'C:\\Users\\hemanth.kumar\\Downloads\\DATA\\New folder\\dataset\\out.csv',index = False)"
   ]
  },
  {
   "cell_type": "code",
   "execution_count": null,
   "metadata": {},
   "outputs": [],
   "source": []
  },
  {
   "cell_type": "code",
   "execution_count": 156,
   "metadata": {},
   "outputs": [],
   "source": [
    "train_copy = train[['Insurance_company','Cost_of_vehicle','Min_coverage','Condition','Expiry_years','Amount']]\n",
    "\n",
    "test_copy = test2[['Insurance_company','Cost_of_vehicle','Min_coverage','Condition','Expiry_years']]"
   ]
  },
  {
   "cell_type": "code",
   "execution_count": 157,
   "metadata": {},
   "outputs": [],
   "source": [
    "train_copy = pd.get_dummies(train_copy)\n",
    "test_copy = pd.get_dummies(test_copy)"
   ]
  },
  {
   "cell_type": "code",
   "execution_count": 159,
   "metadata": {},
   "outputs": [],
   "source": [
    "from sklearn.model_selection import train_test_split\n",
    "y = train_copy['Amount']\n",
    "X = train_copy.drop(['Amount'],axis =1)\n",
    "\n",
    "X_train, X_test, y_train, y_test = train_test_split(X, y, test_size=0.3, random_state=42)"
   ]
  },
  {
   "cell_type": "code",
   "execution_count": 160,
   "metadata": {},
   "outputs": [
    {
     "name": "stdout",
     "output_type": "stream",
     "text": [
      "Wall time: 508 ms\n",
      "r2_score:  0.15443640598641595\n"
     ]
    }
   ],
   "source": [
    "from sklearn.metrics import mean_squared_error\n",
    "from sklearn.metrics import mean_absolute_error\n",
    "xgb_model = XGBRegressor(\n",
    "        objective = 'reg:squarederror',\n",
    "        colsample_bytree = 0.7,\n",
    "        learning_rate = 0.01,\n",
    "        max_depth = 3,\n",
    "        min_child_weight = 3,\n",
    "        n_estimators = 500,\n",
    "        subsample = 0.7)\n",
    "\n",
    "%time xgb_model.fit(X_train, y_train, verbose=False)\n",
    "\n",
    "y_pred_xgb = xgb_model.predict(X_test)\n",
    "\n",
    "mae_xgb = r2_score(y_test, y_pred_xgb)\n",
    "\n",
    "print(\"r2_score: \", mae_xgb)"
   ]
  },
  {
   "cell_type": "code",
   "execution_count": 161,
   "metadata": {},
   "outputs": [],
   "source": [
    "y_pred_test = xgb_model.predict(test_copy)"
   ]
  },
  {
   "cell_type": "code",
   "execution_count": 162,
   "metadata": {},
   "outputs": [],
   "source": [
    "test_df['Amount'] =  y_pred_test "
   ]
  },
  {
   "cell_type": "code",
   "execution_count": 163,
   "metadata": {},
   "outputs": [],
   "source": [
    "sub = test_df[['Image_path','Condition','Amount']]\n",
    "sub.to_csv(r'C:\\Users\\hemanth.kumar\\Downloads\\DATA\\New folder\\dataset\\out1.csv',index = False)"
   ]
  },
  {
   "cell_type": "code",
   "execution_count": null,
   "metadata": {},
   "outputs": [],
   "source": []
  }
 ],
 "metadata": {
  "accelerator": "GPU",
  "colab": {
   "collapsed_sections": [],
   "name": "Untitled0.ipynb",
   "provenance": []
  },
  "kernelspec": {
   "display_name": "Python 3",
   "language": "python",
   "name": "python3"
  },
  "language_info": {
   "codemirror_mode": {
    "name": "ipython",
    "version": 3
   },
   "file_extension": ".py",
   "mimetype": "text/x-python",
   "name": "python",
   "nbconvert_exporter": "python",
   "pygments_lexer": "ipython3",
   "version": "3.8.8"
  }
 },
 "nbformat": 4,
 "nbformat_minor": 1
}
